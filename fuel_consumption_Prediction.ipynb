{
 "cells": [
  {
   "cell_type": "code",
   "execution_count": 17,
   "metadata": {
    "id": "Or_3ONRmPK0s"
   },
   "outputs": [],
   "source": [
    "import numpy as np\n",
    "import pandas as pd\n",
    "from sklearn.model_selection import train_test_split\n",
    "from sklearn.metrics import accuracy_score\n",
    "\n",
    "\n",
    "import warnings\n",
    "warnings.simplefilter(\"ignore\")"
   ]
  },
  {
   "cell_type": "code",
   "execution_count": 19,
   "metadata": {
    "id": "uP4T8Am6QUQu"
   },
   "outputs": [],
   "source": [
    "df = pd.read_csv(\"fuel.csv\")"
   ]
  },
  {
   "cell_type": "code",
   "execution_count": 21,
   "metadata": {
    "colab": {
     "base_uri": "https://localhost:8080/",
     "height": 412
    },
    "id": "Efhx1pBNQZk2",
    "outputId": "4ce08c5e-0f79-416f-db06-4ff1450c4328"
   },
   "outputs": [
    {
     "data": {
      "text/html": [
       "<div>\n",
       "<style scoped>\n",
       "    .dataframe tbody tr th:only-of-type {\n",
       "        vertical-align: middle;\n",
       "    }\n",
       "\n",
       "    .dataframe tbody tr th {\n",
       "        vertical-align: top;\n",
       "    }\n",
       "\n",
       "    .dataframe thead th {\n",
       "        text-align: right;\n",
       "    }\n",
       "</style>\n",
       "<table border=\"1\" class=\"dataframe\">\n",
       "  <thead>\n",
       "    <tr style=\"text-align: right;\">\n",
       "      <th></th>\n",
       "      <th>vehicle_id</th>\n",
       "      <th>year</th>\n",
       "      <th>make</th>\n",
       "      <th>model</th>\n",
       "      <th>class</th>\n",
       "      <th>drive</th>\n",
       "      <th>transmission</th>\n",
       "      <th>transmission_type</th>\n",
       "      <th>engine_index</th>\n",
       "      <th>engine_descriptor</th>\n",
       "      <th>...</th>\n",
       "      <th>hours_to_charge_ac_240v</th>\n",
       "      <th>composite_city_mpg</th>\n",
       "      <th>composite_highway_mpg</th>\n",
       "      <th>composite_combined_mpg</th>\n",
       "      <th>range_ft1</th>\n",
       "      <th>city_range_ft1</th>\n",
       "      <th>highway_range_ft1</th>\n",
       "      <th>range_ft2</th>\n",
       "      <th>city_range_ft2</th>\n",
       "      <th>highway_range_ft2</th>\n",
       "    </tr>\n",
       "  </thead>\n",
       "  <tbody>\n",
       "    <tr>\n",
       "      <th>0</th>\n",
       "      <td>26587</td>\n",
       "      <td>1984</td>\n",
       "      <td>Alfa Romeo</td>\n",
       "      <td>GT V6 2.5</td>\n",
       "      <td>Minicompact Cars</td>\n",
       "      <td>NaN</td>\n",
       "      <td>Manual 5-Speed</td>\n",
       "      <td>NaN</td>\n",
       "      <td>9001</td>\n",
       "      <td>(FFS)</td>\n",
       "      <td>...</td>\n",
       "      <td>0.0</td>\n",
       "      <td>0</td>\n",
       "      <td>0</td>\n",
       "      <td>0</td>\n",
       "      <td>0</td>\n",
       "      <td>0.0</td>\n",
       "      <td>0.0</td>\n",
       "      <td>NaN</td>\n",
       "      <td>0.0</td>\n",
       "      <td>0.0</td>\n",
       "    </tr>\n",
       "    <tr>\n",
       "      <th>1</th>\n",
       "      <td>27705</td>\n",
       "      <td>1984</td>\n",
       "      <td>Alfa Romeo</td>\n",
       "      <td>GT V6 2.5</td>\n",
       "      <td>Minicompact Cars</td>\n",
       "      <td>NaN</td>\n",
       "      <td>Manual 5-Speed</td>\n",
       "      <td>NaN</td>\n",
       "      <td>9005</td>\n",
       "      <td>(FFS) CA model</td>\n",
       "      <td>...</td>\n",
       "      <td>0.0</td>\n",
       "      <td>0</td>\n",
       "      <td>0</td>\n",
       "      <td>0</td>\n",
       "      <td>0</td>\n",
       "      <td>0.0</td>\n",
       "      <td>0.0</td>\n",
       "      <td>NaN</td>\n",
       "      <td>0.0</td>\n",
       "      <td>0.0</td>\n",
       "    </tr>\n",
       "    <tr>\n",
       "      <th>2</th>\n",
       "      <td>26561</td>\n",
       "      <td>1984</td>\n",
       "      <td>Alfa Romeo</td>\n",
       "      <td>Spider Veloce 2000</td>\n",
       "      <td>Two Seaters</td>\n",
       "      <td>NaN</td>\n",
       "      <td>Manual 5-Speed</td>\n",
       "      <td>NaN</td>\n",
       "      <td>9002</td>\n",
       "      <td>(FFS)</td>\n",
       "      <td>...</td>\n",
       "      <td>0.0</td>\n",
       "      <td>0</td>\n",
       "      <td>0</td>\n",
       "      <td>0</td>\n",
       "      <td>0</td>\n",
       "      <td>0.0</td>\n",
       "      <td>0.0</td>\n",
       "      <td>NaN</td>\n",
       "      <td>0.0</td>\n",
       "      <td>0.0</td>\n",
       "    </tr>\n",
       "    <tr>\n",
       "      <th>3</th>\n",
       "      <td>27681</td>\n",
       "      <td>1984</td>\n",
       "      <td>Alfa Romeo</td>\n",
       "      <td>Spider Veloce 2000</td>\n",
       "      <td>Two Seaters</td>\n",
       "      <td>NaN</td>\n",
       "      <td>Manual 5-Speed</td>\n",
       "      <td>NaN</td>\n",
       "      <td>9006</td>\n",
       "      <td>(FFS) CA model</td>\n",
       "      <td>...</td>\n",
       "      <td>0.0</td>\n",
       "      <td>0</td>\n",
       "      <td>0</td>\n",
       "      <td>0</td>\n",
       "      <td>0</td>\n",
       "      <td>0.0</td>\n",
       "      <td>0.0</td>\n",
       "      <td>NaN</td>\n",
       "      <td>0.0</td>\n",
       "      <td>0.0</td>\n",
       "    </tr>\n",
       "    <tr>\n",
       "      <th>4</th>\n",
       "      <td>27550</td>\n",
       "      <td>1984</td>\n",
       "      <td>AM General</td>\n",
       "      <td>DJ Po Vehicle 2WD</td>\n",
       "      <td>Special Purpose Vehicle 2WD</td>\n",
       "      <td>2-Wheel Drive</td>\n",
       "      <td>Automatic 3-Speed</td>\n",
       "      <td>NaN</td>\n",
       "      <td>1830</td>\n",
       "      <td>(FFS)</td>\n",
       "      <td>...</td>\n",
       "      <td>0.0</td>\n",
       "      <td>0</td>\n",
       "      <td>0</td>\n",
       "      <td>0</td>\n",
       "      <td>0</td>\n",
       "      <td>0.0</td>\n",
       "      <td>0.0</td>\n",
       "      <td>NaN</td>\n",
       "      <td>0.0</td>\n",
       "      <td>0.0</td>\n",
       "    </tr>\n",
       "  </tbody>\n",
       "</table>\n",
       "<p>5 rows × 81 columns</p>\n",
       "</div>"
      ],
      "text/plain": [
       "   vehicle_id  year        make               model  \\\n",
       "0       26587  1984  Alfa Romeo           GT V6 2.5   \n",
       "1       27705  1984  Alfa Romeo           GT V6 2.5   \n",
       "2       26561  1984  Alfa Romeo  Spider Veloce 2000   \n",
       "3       27681  1984  Alfa Romeo  Spider Veloce 2000   \n",
       "4       27550  1984  AM General   DJ Po Vehicle 2WD   \n",
       "\n",
       "                         class          drive       transmission  \\\n",
       "0             Minicompact Cars            NaN     Manual 5-Speed   \n",
       "1             Minicompact Cars            NaN     Manual 5-Speed   \n",
       "2                  Two Seaters            NaN     Manual 5-Speed   \n",
       "3                  Two Seaters            NaN     Manual 5-Speed   \n",
       "4  Special Purpose Vehicle 2WD  2-Wheel Drive  Automatic 3-Speed   \n",
       "\n",
       "  transmission_type  engine_index engine_descriptor  ...  \\\n",
       "0               NaN          9001             (FFS)  ...   \n",
       "1               NaN          9005    (FFS) CA model  ...   \n",
       "2               NaN          9002             (FFS)  ...   \n",
       "3               NaN          9006    (FFS) CA model  ...   \n",
       "4               NaN          1830             (FFS)  ...   \n",
       "\n",
       "   hours_to_charge_ac_240v  composite_city_mpg composite_highway_mpg  \\\n",
       "0                      0.0                   0                     0   \n",
       "1                      0.0                   0                     0   \n",
       "2                      0.0                   0                     0   \n",
       "3                      0.0                   0                     0   \n",
       "4                      0.0                   0                     0   \n",
       "\n",
       "   composite_combined_mpg range_ft1 city_range_ft1  highway_range_ft1  \\\n",
       "0                       0         0            0.0                0.0   \n",
       "1                       0         0            0.0                0.0   \n",
       "2                       0         0            0.0                0.0   \n",
       "3                       0         0            0.0                0.0   \n",
       "4                       0         0            0.0                0.0   \n",
       "\n",
       "   range_ft2  city_range_ft2  highway_range_ft2  \n",
       "0        NaN             0.0                0.0  \n",
       "1        NaN             0.0                0.0  \n",
       "2        NaN             0.0                0.0  \n",
       "3        NaN             0.0                0.0  \n",
       "4        NaN             0.0                0.0  \n",
       "\n",
       "[5 rows x 81 columns]"
      ]
     },
     "execution_count": 21,
     "metadata": {},
     "output_type": "execute_result"
    }
   ],
   "source": [
    "df.head()"
   ]
  },
  {
   "cell_type": "code",
   "execution_count": 23,
   "metadata": {
    "colab": {
     "base_uri": "https://localhost:8080/"
    },
    "id": "KnskNoP4QcCH",
    "outputId": "87fc3b51-7f72-49c9-cf0c-ca42959c6f16"
   },
   "outputs": [
    {
     "data": {
      "text/plain": [
       "(38113, 81)"
      ]
     },
     "execution_count": 23,
     "metadata": {},
     "output_type": "execute_result"
    }
   ],
   "source": [
    "df.shape"
   ]
  },
  {
   "cell_type": "code",
   "execution_count": 25,
   "metadata": {
    "colab": {
     "base_uri": "https://localhost:8080/"
    },
    "id": "oUEE57BTQuWq",
    "outputId": "8291902e-499d-4127-ab6e-e291fe1999c7"
   },
   "outputs": [
    {
     "name": "stdout",
     "output_type": "stream",
     "text": [
      "<class 'pandas.core.frame.DataFrame'>\n",
      "RangeIndex: 38113 entries, 0 to 38112\n",
      "Data columns (total 81 columns):\n",
      " #   Column                             Non-Null Count  Dtype  \n",
      "---  ------                             --------------  -----  \n",
      " 0   vehicle_id                         38113 non-null  int64  \n",
      " 1   year                               38113 non-null  int64  \n",
      " 2   make                               38113 non-null  object \n",
      " 3   model                              38113 non-null  object \n",
      " 4   class                              38113 non-null  object \n",
      " 5   drive                              36924 non-null  object \n",
      " 6   transmission                       38102 non-null  object \n",
      " 7   transmission_type                  15045 non-null  object \n",
      " 8   engine_index                       38113 non-null  int64  \n",
      " 9   engine_descriptor                  22693 non-null  object \n",
      " 10  engine_cylinders                   37977 non-null  float64\n",
      " 11  engine_displacement                37979 non-null  float64\n",
      " 12  turbocharger                       5239 non-null   object \n",
      " 13  supercharger                       0 non-null      float64\n",
      " 14  fuel_type                          38113 non-null  object \n",
      " 15  fuel_type_1                        38113 non-null  object \n",
      " 16  fuel_type_2                        0 non-null      float64\n",
      " 17  city_mpg_ft1                       38113 non-null  int64  \n",
      " 18  unrounded_city_mpg_ft1             38113 non-null  float64\n",
      " 19  city_mpg_ft2                       38113 non-null  int64  \n",
      " 20  unrounded_city_mpg_ft2             38113 non-null  float64\n",
      " 21  city_gasoline_consumption_cd       38113 non-null  float64\n",
      " 22  city_electricity_consumption       38113 non-null  float64\n",
      " 23  city_utility_factor                38113 non-null  float64\n",
      " 24  highway_mpg_ft1                    38113 non-null  int64  \n",
      " 25  unrounded_highway_mpg_ft1          38113 non-null  float64\n",
      " 26  highway_mpg_ft2                    38113 non-null  int64  \n",
      " 27  unrounded_highway_mpg_ft2          38113 non-null  float64\n",
      " 28  highway_gasoline_consumption_cd    38113 non-null  float64\n",
      " 29  highway_electricity_consumption    38113 non-null  float64\n",
      " 30  highway_utility_factor             38113 non-null  float64\n",
      " 31  unadjusted_city_mpg_ft1            38113 non-null  float64\n",
      " 32  unadjusted_highway_mpg_ft1         38113 non-null  float64\n",
      " 33  unadjusted_city_mpg_ft2            38113 non-null  float64\n",
      " 34  unadjusted_highway_mpg_ft2         38113 non-null  float64\n",
      " 35  combined_mpg_ft1                   38113 non-null  int64  \n",
      " 36  unrounded_combined_mpg_ft1         38113 non-null  float64\n",
      " 37  combined_mpg_ft2                   38113 non-null  int64  \n",
      " 38  unrounded_combined_mpg_ft2         38113 non-null  float64\n",
      " 39  combined_electricity_consumption   38113 non-null  float64\n",
      " 40  combined_gasoline_consumption_cd   38113 non-null  float64\n",
      " 41  combined_utility_factor            38113 non-null  float64\n",
      " 42  annual_fuel_cost_ft1               38113 non-null  int64  \n",
      " 43  annual_fuel_cost_ft2               38113 non-null  int64  \n",
      " 44  gas_guzzler_tax                    964 non-null    object \n",
      " 45  save_or_spend_5_year               38113 non-null  int64  \n",
      " 46  annual_consumption_in_barrels_ft1  38113 non-null  float64\n",
      " 47  annual_consumption_in_barrels_ft2  38113 non-null  float64\n",
      " 48  tailpipe_co2_ft1                   38113 non-null  int64  \n",
      " 49  tailpipe_co2_in_grams_mile_ft1     38113 non-null  float64\n",
      " 50  tailpipe_co2_ft2                   38113 non-null  int64  \n",
      " 51  tailpipe_co2_in_grams_mile_ft2     38113 non-null  float64\n",
      " 52  fuel_economy_score                 38113 non-null  int64  \n",
      " 53  ghg_score                          38113 non-null  int64  \n",
      " 54  ghg_score_alt_fuel                 38113 non-null  int64  \n",
      " 55  my_mpg_data                        38113 non-null  object \n",
      " 56  x2d_passenger_volume               38113 non-null  int64  \n",
      " 57  x2d_luggage_volume                 38113 non-null  int64  \n",
      " 58  x4d_passenger_volume               38113 non-null  int64  \n",
      " 59  x4d_luggage_volume                 38113 non-null  int64  \n",
      " 60  hatchback_passenger_volume         38113 non-null  int64  \n",
      " 61  hatchback_luggage_volume           38113 non-null  int64  \n",
      " 62  start_stop_technology              0 non-null      float64\n",
      " 63  alternative_fuel_technology        3047 non-null   object \n",
      " 64  electric_motor                     0 non-null      float64\n",
      " 65  manufacturer_code                  0 non-null      float64\n",
      " 66  gasoline_electricity_blended_cd    38113 non-null  bool   \n",
      " 67  vehicle_charger                    0 non-null      float64\n",
      " 68  alternate_charger                  0 non-null      float64\n",
      " 69  hours_to_charge_120v               38113 non-null  int64  \n",
      " 70  hours_to_charge_240v               38113 non-null  float64\n",
      " 71  hours_to_charge_ac_240v            38113 non-null  float64\n",
      " 72  composite_city_mpg                 38113 non-null  int64  \n",
      " 73  composite_highway_mpg              38113 non-null  int64  \n",
      " 74  composite_combined_mpg             38113 non-null  int64  \n",
      " 75  range_ft1                          38113 non-null  int64  \n",
      " 76  city_range_ft1                     38113 non-null  float64\n",
      " 77  highway_range_ft1                  38113 non-null  float64\n",
      " 78  range_ft2                          0 non-null      float64\n",
      " 79  city_range_ft2                     38113 non-null  float64\n",
      " 80  highway_range_ft2                  38113 non-null  float64\n",
      "dtypes: bool(1), float64(39), int64(28), object(13)\n",
      "memory usage: 23.3+ MB\n"
     ]
    }
   ],
   "source": [
    "df.info()"
   ]
  },
  {
   "cell_type": "code",
   "execution_count": 27,
   "metadata": {
    "colab": {
     "base_uri": "https://localhost:8080/",
     "height": 349
    },
    "id": "THJT2db6Qv7_",
    "outputId": "9525dff6-5da7-4fc8-d9de-a0ded9bc9e2f"
   },
   "outputs": [
    {
     "data": {
      "text/html": [
       "<div>\n",
       "<style scoped>\n",
       "    .dataframe tbody tr th:only-of-type {\n",
       "        vertical-align: middle;\n",
       "    }\n",
       "\n",
       "    .dataframe tbody tr th {\n",
       "        vertical-align: top;\n",
       "    }\n",
       "\n",
       "    .dataframe thead th {\n",
       "        text-align: right;\n",
       "    }\n",
       "</style>\n",
       "<table border=\"1\" class=\"dataframe\">\n",
       "  <thead>\n",
       "    <tr style=\"text-align: right;\">\n",
       "      <th></th>\n",
       "      <th>vehicle_id</th>\n",
       "      <th>year</th>\n",
       "      <th>engine_index</th>\n",
       "      <th>engine_cylinders</th>\n",
       "      <th>engine_displacement</th>\n",
       "      <th>supercharger</th>\n",
       "      <th>fuel_type_2</th>\n",
       "      <th>city_mpg_ft1</th>\n",
       "      <th>unrounded_city_mpg_ft1</th>\n",
       "      <th>city_mpg_ft2</th>\n",
       "      <th>...</th>\n",
       "      <th>hours_to_charge_ac_240v</th>\n",
       "      <th>composite_city_mpg</th>\n",
       "      <th>composite_highway_mpg</th>\n",
       "      <th>composite_combined_mpg</th>\n",
       "      <th>range_ft1</th>\n",
       "      <th>city_range_ft1</th>\n",
       "      <th>highway_range_ft1</th>\n",
       "      <th>range_ft2</th>\n",
       "      <th>city_range_ft2</th>\n",
       "      <th>highway_range_ft2</th>\n",
       "    </tr>\n",
       "  </thead>\n",
       "  <tbody>\n",
       "    <tr>\n",
       "      <th>count</th>\n",
       "      <td>38113.000000</td>\n",
       "      <td>38113.000000</td>\n",
       "      <td>38113.000000</td>\n",
       "      <td>37977.000000</td>\n",
       "      <td>37979.000000</td>\n",
       "      <td>0.0</td>\n",
       "      <td>0.0</td>\n",
       "      <td>38113.000000</td>\n",
       "      <td>38113.000000</td>\n",
       "      <td>38113.000000</td>\n",
       "      <td>...</td>\n",
       "      <td>38113.000000</td>\n",
       "      <td>38113.000000</td>\n",
       "      <td>38113.000000</td>\n",
       "      <td>38113.000000</td>\n",
       "      <td>38113.000000</td>\n",
       "      <td>38113.000000</td>\n",
       "      <td>38113.000000</td>\n",
       "      <td>0.0</td>\n",
       "      <td>38113.000000</td>\n",
       "      <td>38113.000000</td>\n",
       "    </tr>\n",
       "    <tr>\n",
       "      <th>mean</th>\n",
       "      <td>19170.638496</td>\n",
       "      <td>2000.194527</td>\n",
       "      <td>8799.389001</td>\n",
       "      <td>5.736656</td>\n",
       "      <td>3.317583</td>\n",
       "      <td>NaN</td>\n",
       "      <td>NaN</td>\n",
       "      <td>17.981109</td>\n",
       "      <td>4.606426</td>\n",
       "      <td>0.546218</td>\n",
       "      <td>...</td>\n",
       "      <td>0.005549</td>\n",
       "      <td>0.082203</td>\n",
       "      <td>0.080891</td>\n",
       "      <td>0.081311</td>\n",
       "      <td>0.469708</td>\n",
       "      <td>0.426249</td>\n",
       "      <td>0.419197</td>\n",
       "      <td>NaN</td>\n",
       "      <td>0.043973</td>\n",
       "      <td>0.040051</td>\n",
       "    </tr>\n",
       "    <tr>\n",
       "      <th>std</th>\n",
       "      <td>11134.878665</td>\n",
       "      <td>10.464573</td>\n",
       "      <td>17781.058490</td>\n",
       "      <td>1.752254</td>\n",
       "      <td>1.361995</td>\n",
       "      <td>NaN</td>\n",
       "      <td>NaN</td>\n",
       "      <td>6.849728</td>\n",
       "      <td>10.113963</td>\n",
       "      <td>4.109282</td>\n",
       "      <td>...</td>\n",
       "      <td>0.161014</td>\n",
       "      <td>2.156682</td>\n",
       "      <td>2.052187</td>\n",
       "      <td>2.097794</td>\n",
       "      <td>9.352069</td>\n",
       "      <td>9.104702</td>\n",
       "      <td>9.315914</td>\n",
       "      <td>NaN</td>\n",
       "      <td>1.311628</td>\n",
       "      <td>1.169281</td>\n",
       "    </tr>\n",
       "    <tr>\n",
       "      <th>min</th>\n",
       "      <td>1.000000</td>\n",
       "      <td>1984.000000</td>\n",
       "      <td>0.000000</td>\n",
       "      <td>2.000000</td>\n",
       "      <td>0.000000</td>\n",
       "      <td>NaN</td>\n",
       "      <td>NaN</td>\n",
       "      <td>6.000000</td>\n",
       "      <td>0.000000</td>\n",
       "      <td>0.000000</td>\n",
       "      <td>...</td>\n",
       "      <td>0.000000</td>\n",
       "      <td>0.000000</td>\n",
       "      <td>0.000000</td>\n",
       "      <td>0.000000</td>\n",
       "      <td>0.000000</td>\n",
       "      <td>0.000000</td>\n",
       "      <td>0.000000</td>\n",
       "      <td>NaN</td>\n",
       "      <td>0.000000</td>\n",
       "      <td>0.000000</td>\n",
       "    </tr>\n",
       "    <tr>\n",
       "      <th>25%</th>\n",
       "      <td>9529.000000</td>\n",
       "      <td>1991.000000</td>\n",
       "      <td>0.000000</td>\n",
       "      <td>4.000000</td>\n",
       "      <td>2.200000</td>\n",
       "      <td>NaN</td>\n",
       "      <td>NaN</td>\n",
       "      <td>15.000000</td>\n",
       "      <td>0.000000</td>\n",
       "      <td>0.000000</td>\n",
       "      <td>...</td>\n",
       "      <td>0.000000</td>\n",
       "      <td>0.000000</td>\n",
       "      <td>0.000000</td>\n",
       "      <td>0.000000</td>\n",
       "      <td>0.000000</td>\n",
       "      <td>0.000000</td>\n",
       "      <td>0.000000</td>\n",
       "      <td>NaN</td>\n",
       "      <td>0.000000</td>\n",
       "      <td>0.000000</td>\n",
       "    </tr>\n",
       "    <tr>\n",
       "      <th>50%</th>\n",
       "      <td>19058.000000</td>\n",
       "      <td>2001.000000</td>\n",
       "      <td>212.000000</td>\n",
       "      <td>6.000000</td>\n",
       "      <td>3.000000</td>\n",
       "      <td>NaN</td>\n",
       "      <td>NaN</td>\n",
       "      <td>17.000000</td>\n",
       "      <td>0.000000</td>\n",
       "      <td>0.000000</td>\n",
       "      <td>...</td>\n",
       "      <td>0.000000</td>\n",
       "      <td>0.000000</td>\n",
       "      <td>0.000000</td>\n",
       "      <td>0.000000</td>\n",
       "      <td>0.000000</td>\n",
       "      <td>0.000000</td>\n",
       "      <td>0.000000</td>\n",
       "      <td>NaN</td>\n",
       "      <td>0.000000</td>\n",
       "      <td>0.000000</td>\n",
       "    </tr>\n",
       "    <tr>\n",
       "      <th>75%</th>\n",
       "      <td>28779.000000</td>\n",
       "      <td>2009.000000</td>\n",
       "      <td>4451.000000</td>\n",
       "      <td>6.000000</td>\n",
       "      <td>4.300000</td>\n",
       "      <td>NaN</td>\n",
       "      <td>NaN</td>\n",
       "      <td>20.000000</td>\n",
       "      <td>0.000000</td>\n",
       "      <td>0.000000</td>\n",
       "      <td>...</td>\n",
       "      <td>0.000000</td>\n",
       "      <td>0.000000</td>\n",
       "      <td>0.000000</td>\n",
       "      <td>0.000000</td>\n",
       "      <td>0.000000</td>\n",
       "      <td>0.000000</td>\n",
       "      <td>0.000000</td>\n",
       "      <td>NaN</td>\n",
       "      <td>0.000000</td>\n",
       "      <td>0.000000</td>\n",
       "    </tr>\n",
       "    <tr>\n",
       "      <th>max</th>\n",
       "      <td>38542.000000</td>\n",
       "      <td>2017.000000</td>\n",
       "      <td>69102.000000</td>\n",
       "      <td>16.000000</td>\n",
       "      <td>8.400000</td>\n",
       "      <td>NaN</td>\n",
       "      <td>NaN</td>\n",
       "      <td>150.000000</td>\n",
       "      <td>150.000000</td>\n",
       "      <td>145.000000</td>\n",
       "      <td>...</td>\n",
       "      <td>7.000000</td>\n",
       "      <td>97.000000</td>\n",
       "      <td>81.000000</td>\n",
       "      <td>88.000000</td>\n",
       "      <td>315.000000</td>\n",
       "      <td>305.900000</td>\n",
       "      <td>346.900000</td>\n",
       "      <td>NaN</td>\n",
       "      <td>103.030000</td>\n",
       "      <td>90.550000</td>\n",
       "    </tr>\n",
       "  </tbody>\n",
       "</table>\n",
       "<p>8 rows × 67 columns</p>\n",
       "</div>"
      ],
      "text/plain": [
       "         vehicle_id          year  engine_index  engine_cylinders  \\\n",
       "count  38113.000000  38113.000000  38113.000000      37977.000000   \n",
       "mean   19170.638496   2000.194527   8799.389001          5.736656   \n",
       "std    11134.878665     10.464573  17781.058490          1.752254   \n",
       "min        1.000000   1984.000000      0.000000          2.000000   \n",
       "25%     9529.000000   1991.000000      0.000000          4.000000   \n",
       "50%    19058.000000   2001.000000    212.000000          6.000000   \n",
       "75%    28779.000000   2009.000000   4451.000000          6.000000   \n",
       "max    38542.000000   2017.000000  69102.000000         16.000000   \n",
       "\n",
       "       engine_displacement  supercharger  fuel_type_2  city_mpg_ft1  \\\n",
       "count         37979.000000           0.0          0.0  38113.000000   \n",
       "mean              3.317583           NaN          NaN     17.981109   \n",
       "std               1.361995           NaN          NaN      6.849728   \n",
       "min               0.000000           NaN          NaN      6.000000   \n",
       "25%               2.200000           NaN          NaN     15.000000   \n",
       "50%               3.000000           NaN          NaN     17.000000   \n",
       "75%               4.300000           NaN          NaN     20.000000   \n",
       "max               8.400000           NaN          NaN    150.000000   \n",
       "\n",
       "       unrounded_city_mpg_ft1  city_mpg_ft2  ...  hours_to_charge_ac_240v  \\\n",
       "count            38113.000000  38113.000000  ...             38113.000000   \n",
       "mean                 4.606426      0.546218  ...                 0.005549   \n",
       "std                 10.113963      4.109282  ...                 0.161014   \n",
       "min                  0.000000      0.000000  ...                 0.000000   \n",
       "25%                  0.000000      0.000000  ...                 0.000000   \n",
       "50%                  0.000000      0.000000  ...                 0.000000   \n",
       "75%                  0.000000      0.000000  ...                 0.000000   \n",
       "max                150.000000    145.000000  ...                 7.000000   \n",
       "\n",
       "       composite_city_mpg  composite_highway_mpg  composite_combined_mpg  \\\n",
       "count        38113.000000           38113.000000            38113.000000   \n",
       "mean             0.082203               0.080891                0.081311   \n",
       "std              2.156682               2.052187                2.097794   \n",
       "min              0.000000               0.000000                0.000000   \n",
       "25%              0.000000               0.000000                0.000000   \n",
       "50%              0.000000               0.000000                0.000000   \n",
       "75%              0.000000               0.000000                0.000000   \n",
       "max             97.000000              81.000000               88.000000   \n",
       "\n",
       "          range_ft1  city_range_ft1  highway_range_ft1  range_ft2  \\\n",
       "count  38113.000000    38113.000000       38113.000000        0.0   \n",
       "mean       0.469708        0.426249           0.419197        NaN   \n",
       "std        9.352069        9.104702           9.315914        NaN   \n",
       "min        0.000000        0.000000           0.000000        NaN   \n",
       "25%        0.000000        0.000000           0.000000        NaN   \n",
       "50%        0.000000        0.000000           0.000000        NaN   \n",
       "75%        0.000000        0.000000           0.000000        NaN   \n",
       "max      315.000000      305.900000         346.900000        NaN   \n",
       "\n",
       "       city_range_ft2  highway_range_ft2  \n",
       "count    38113.000000       38113.000000  \n",
       "mean         0.043973           0.040051  \n",
       "std          1.311628           1.169281  \n",
       "min          0.000000           0.000000  \n",
       "25%          0.000000           0.000000  \n",
       "50%          0.000000           0.000000  \n",
       "75%          0.000000           0.000000  \n",
       "max        103.030000          90.550000  \n",
       "\n",
       "[8 rows x 67 columns]"
      ]
     },
     "execution_count": 27,
     "metadata": {},
     "output_type": "execute_result"
    }
   ],
   "source": [
    "df.describe()"
   ]
  },
  {
   "cell_type": "code",
   "execution_count": 29,
   "metadata": {
    "id": "cGNSmizXRI7a"
   },
   "outputs": [],
   "source": [
    "df = df.drop([\"range_ft2\", \"gas_guzzler_tax\",\"gasoline_electricity_blended_cd\",\"engine_descriptor\",\"transmission_type\",\"fuel_type_2\",\"start_stop_technology\",\"supercharger\" ,\"electric_motor\",\"manufacturer_code\", \"vehicle_charger\", \"alternate_charger\",\"alternative_fuel_technology\" ],axis=1)"
   ]
  },
  {
   "cell_type": "code",
   "execution_count": 31,
   "metadata": {
    "colab": {
     "base_uri": "https://localhost:8080/",
     "height": 458
    },
    "id": "vOz5PK6aQxoF",
    "outputId": "1fb66f70-2a12-416e-d66c-609736f0e964"
   },
   "outputs": [
    {
     "data": {
      "text/plain": [
       "vehicle_id           0\n",
       "year                 0\n",
       "make                 0\n",
       "model                0\n",
       "class                0\n",
       "                    ..\n",
       "range_ft1            0\n",
       "city_range_ft1       0\n",
       "highway_range_ft1    0\n",
       "city_range_ft2       0\n",
       "highway_range_ft2    0\n",
       "Length: 68, dtype: int64"
      ]
     },
     "execution_count": 31,
     "metadata": {},
     "output_type": "execute_result"
    }
   ],
   "source": [
    "df.isna().sum()"
   ]
  },
  {
   "cell_type": "code",
   "execution_count": 33,
   "metadata": {
    "colab": {
     "base_uri": "https://localhost:8080/"
    },
    "id": "3g22KgALSbog",
    "outputId": "5375ad90-f0ef-4377-e687-679d6b49ad2d"
   },
   "outputs": [
    {
     "name": "stdout",
     "output_type": "stream",
     "text": [
      "<class 'pandas.core.frame.DataFrame'>\n",
      "RangeIndex: 38113 entries, 0 to 38112\n",
      "Data columns (total 68 columns):\n",
      " #   Column                             Non-Null Count  Dtype  \n",
      "---  ------                             --------------  -----  \n",
      " 0   vehicle_id                         38113 non-null  int64  \n",
      " 1   year                               38113 non-null  int64  \n",
      " 2   make                               38113 non-null  object \n",
      " 3   model                              38113 non-null  object \n",
      " 4   class                              38113 non-null  object \n",
      " 5   drive                              36924 non-null  object \n",
      " 6   transmission                       38102 non-null  object \n",
      " 7   engine_index                       38113 non-null  int64  \n",
      " 8   engine_cylinders                   37977 non-null  float64\n",
      " 9   engine_displacement                37979 non-null  float64\n",
      " 10  turbocharger                       5239 non-null   object \n",
      " 11  fuel_type                          38113 non-null  object \n",
      " 12  fuel_type_1                        38113 non-null  object \n",
      " 13  city_mpg_ft1                       38113 non-null  int64  \n",
      " 14  unrounded_city_mpg_ft1             38113 non-null  float64\n",
      " 15  city_mpg_ft2                       38113 non-null  int64  \n",
      " 16  unrounded_city_mpg_ft2             38113 non-null  float64\n",
      " 17  city_gasoline_consumption_cd       38113 non-null  float64\n",
      " 18  city_electricity_consumption       38113 non-null  float64\n",
      " 19  city_utility_factor                38113 non-null  float64\n",
      " 20  highway_mpg_ft1                    38113 non-null  int64  \n",
      " 21  unrounded_highway_mpg_ft1          38113 non-null  float64\n",
      " 22  highway_mpg_ft2                    38113 non-null  int64  \n",
      " 23  unrounded_highway_mpg_ft2          38113 non-null  float64\n",
      " 24  highway_gasoline_consumption_cd    38113 non-null  float64\n",
      " 25  highway_electricity_consumption    38113 non-null  float64\n",
      " 26  highway_utility_factor             38113 non-null  float64\n",
      " 27  unadjusted_city_mpg_ft1            38113 non-null  float64\n",
      " 28  unadjusted_highway_mpg_ft1         38113 non-null  float64\n",
      " 29  unadjusted_city_mpg_ft2            38113 non-null  float64\n",
      " 30  unadjusted_highway_mpg_ft2         38113 non-null  float64\n",
      " 31  combined_mpg_ft1                   38113 non-null  int64  \n",
      " 32  unrounded_combined_mpg_ft1         38113 non-null  float64\n",
      " 33  combined_mpg_ft2                   38113 non-null  int64  \n",
      " 34  unrounded_combined_mpg_ft2         38113 non-null  float64\n",
      " 35  combined_electricity_consumption   38113 non-null  float64\n",
      " 36  combined_gasoline_consumption_cd   38113 non-null  float64\n",
      " 37  combined_utility_factor            38113 non-null  float64\n",
      " 38  annual_fuel_cost_ft1               38113 non-null  int64  \n",
      " 39  annual_fuel_cost_ft2               38113 non-null  int64  \n",
      " 40  save_or_spend_5_year               38113 non-null  int64  \n",
      " 41  annual_consumption_in_barrels_ft1  38113 non-null  float64\n",
      " 42  annual_consumption_in_barrels_ft2  38113 non-null  float64\n",
      " 43  tailpipe_co2_ft1                   38113 non-null  int64  \n",
      " 44  tailpipe_co2_in_grams_mile_ft1     38113 non-null  float64\n",
      " 45  tailpipe_co2_ft2                   38113 non-null  int64  \n",
      " 46  tailpipe_co2_in_grams_mile_ft2     38113 non-null  float64\n",
      " 47  fuel_economy_score                 38113 non-null  int64  \n",
      " 48  ghg_score                          38113 non-null  int64  \n",
      " 49  ghg_score_alt_fuel                 38113 non-null  int64  \n",
      " 50  my_mpg_data                        38113 non-null  object \n",
      " 51  x2d_passenger_volume               38113 non-null  int64  \n",
      " 52  x2d_luggage_volume                 38113 non-null  int64  \n",
      " 53  x4d_passenger_volume               38113 non-null  int64  \n",
      " 54  x4d_luggage_volume                 38113 non-null  int64  \n",
      " 55  hatchback_passenger_volume         38113 non-null  int64  \n",
      " 56  hatchback_luggage_volume           38113 non-null  int64  \n",
      " 57  hours_to_charge_120v               38113 non-null  int64  \n",
      " 58  hours_to_charge_240v               38113 non-null  float64\n",
      " 59  hours_to_charge_ac_240v            38113 non-null  float64\n",
      " 60  composite_city_mpg                 38113 non-null  int64  \n",
      " 61  composite_highway_mpg              38113 non-null  int64  \n",
      " 62  composite_combined_mpg             38113 non-null  int64  \n",
      " 63  range_ft1                          38113 non-null  int64  \n",
      " 64  city_range_ft1                     38113 non-null  float64\n",
      " 65  highway_range_ft1                  38113 non-null  float64\n",
      " 66  city_range_ft2                     38113 non-null  float64\n",
      " 67  highway_range_ft2                  38113 non-null  float64\n",
      "dtypes: float64(31), int64(28), object(9)\n",
      "memory usage: 19.8+ MB\n"
     ]
    }
   ],
   "source": [
    "df.info()"
   ]
  },
  {
   "cell_type": "code",
   "execution_count": 35,
   "metadata": {
    "id": "6stDPE6MQ2SD"
   },
   "outputs": [],
   "source": [
    "df = df.dropna()"
   ]
  },
  {
   "cell_type": "code",
   "execution_count": 37,
   "metadata": {
    "colab": {
     "base_uri": "https://localhost:8080/"
    },
    "id": "Avfg9m-4Q8Av",
    "outputId": "84395347-16c7-46b9-cacb-50f41ec88bb4"
   },
   "outputs": [
    {
     "data": {
      "text/plain": [
       "(5115, 68)"
      ]
     },
     "execution_count": 37,
     "metadata": {},
     "output_type": "execute_result"
    }
   ],
   "source": [
    "df.shape"
   ]
  },
  {
   "cell_type": "code",
   "execution_count": 39,
   "metadata": {
    "id": "DSOLHF_NQ9eL"
   },
   "outputs": [],
   "source": [
    "from sklearn.preprocessing import LabelEncoder\n",
    "le = LabelEncoder()\n",
    "\n",
    "cols = [\"make\", \"model\", \"class\", \"drive\", \"transmission\", \"turbocharger\", \"fuel_type\", \"fuel_type_1\", \"my_mpg_data\" ]\n",
    "\n",
    "for f in cols:\n",
    "  df[f] = le.fit_transform(df[f])\n",
    "\n",
    "\n",
    "\n"
   ]
  },
  {
   "cell_type": "code",
   "execution_count": 41,
   "metadata": {
    "colab": {
     "base_uri": "https://localhost:8080/"
    },
    "id": "qKI8GrlkUmFE",
    "outputId": "b56302d1-6596-4593-9d81-566d33ee81f0"
   },
   "outputs": [
    {
     "name": "stdout",
     "output_type": "stream",
     "text": [
      "<class 'pandas.core.frame.DataFrame'>\n",
      "Index: 5115 entries, 1750 to 38112\n",
      "Data columns (total 68 columns):\n",
      " #   Column                             Non-Null Count  Dtype  \n",
      "---  ------                             --------------  -----  \n",
      " 0   vehicle_id                         5115 non-null   int64  \n",
      " 1   year                               5115 non-null   int64  \n",
      " 2   make                               5115 non-null   int32  \n",
      " 3   model                              5115 non-null   int32  \n",
      " 4   class                              5115 non-null   int32  \n",
      " 5   drive                              5115 non-null   int32  \n",
      " 6   transmission                       5115 non-null   int32  \n",
      " 7   engine_index                       5115 non-null   int64  \n",
      " 8   engine_cylinders                   5115 non-null   float64\n",
      " 9   engine_displacement                5115 non-null   float64\n",
      " 10  turbocharger                       5115 non-null   int32  \n",
      " 11  fuel_type                          5115 non-null   int32  \n",
      " 12  fuel_type_1                        5115 non-null   int32  \n",
      " 13  city_mpg_ft1                       5115 non-null   int64  \n",
      " 14  unrounded_city_mpg_ft1             5115 non-null   float64\n",
      " 15  city_mpg_ft2                       5115 non-null   int64  \n",
      " 16  unrounded_city_mpg_ft2             5115 non-null   float64\n",
      " 17  city_gasoline_consumption_cd       5115 non-null   float64\n",
      " 18  city_electricity_consumption       5115 non-null   float64\n",
      " 19  city_utility_factor                5115 non-null   float64\n",
      " 20  highway_mpg_ft1                    5115 non-null   int64  \n",
      " 21  unrounded_highway_mpg_ft1          5115 non-null   float64\n",
      " 22  highway_mpg_ft2                    5115 non-null   int64  \n",
      " 23  unrounded_highway_mpg_ft2          5115 non-null   float64\n",
      " 24  highway_gasoline_consumption_cd    5115 non-null   float64\n",
      " 25  highway_electricity_consumption    5115 non-null   float64\n",
      " 26  highway_utility_factor             5115 non-null   float64\n",
      " 27  unadjusted_city_mpg_ft1            5115 non-null   float64\n",
      " 28  unadjusted_highway_mpg_ft1         5115 non-null   float64\n",
      " 29  unadjusted_city_mpg_ft2            5115 non-null   float64\n",
      " 30  unadjusted_highway_mpg_ft2         5115 non-null   float64\n",
      " 31  combined_mpg_ft1                   5115 non-null   int64  \n",
      " 32  unrounded_combined_mpg_ft1         5115 non-null   float64\n",
      " 33  combined_mpg_ft2                   5115 non-null   int64  \n",
      " 34  unrounded_combined_mpg_ft2         5115 non-null   float64\n",
      " 35  combined_electricity_consumption   5115 non-null   float64\n",
      " 36  combined_gasoline_consumption_cd   5115 non-null   float64\n",
      " 37  combined_utility_factor            5115 non-null   float64\n",
      " 38  annual_fuel_cost_ft1               5115 non-null   int64  \n",
      " 39  annual_fuel_cost_ft2               5115 non-null   int64  \n",
      " 40  save_or_spend_5_year               5115 non-null   int64  \n",
      " 41  annual_consumption_in_barrels_ft1  5115 non-null   float64\n",
      " 42  annual_consumption_in_barrels_ft2  5115 non-null   float64\n",
      " 43  tailpipe_co2_ft1                   5115 non-null   int64  \n",
      " 44  tailpipe_co2_in_grams_mile_ft1     5115 non-null   float64\n",
      " 45  tailpipe_co2_ft2                   5115 non-null   int64  \n",
      " 46  tailpipe_co2_in_grams_mile_ft2     5115 non-null   float64\n",
      " 47  fuel_economy_score                 5115 non-null   int64  \n",
      " 48  ghg_score                          5115 non-null   int64  \n",
      " 49  ghg_score_alt_fuel                 5115 non-null   int64  \n",
      " 50  my_mpg_data                        5115 non-null   int32  \n",
      " 51  x2d_passenger_volume               5115 non-null   int64  \n",
      " 52  x2d_luggage_volume                 5115 non-null   int64  \n",
      " 53  x4d_passenger_volume               5115 non-null   int64  \n",
      " 54  x4d_luggage_volume                 5115 non-null   int64  \n",
      " 55  hatchback_passenger_volume         5115 non-null   int64  \n",
      " 56  hatchback_luggage_volume           5115 non-null   int64  \n",
      " 57  hours_to_charge_120v               5115 non-null   int64  \n",
      " 58  hours_to_charge_240v               5115 non-null   float64\n",
      " 59  hours_to_charge_ac_240v            5115 non-null   float64\n",
      " 60  composite_city_mpg                 5115 non-null   int64  \n",
      " 61  composite_highway_mpg              5115 non-null   int64  \n",
      " 62  composite_combined_mpg             5115 non-null   int64  \n",
      " 63  range_ft1                          5115 non-null   int64  \n",
      " 64  city_range_ft1                     5115 non-null   float64\n",
      " 65  highway_range_ft1                  5115 non-null   float64\n",
      " 66  city_range_ft2                     5115 non-null   float64\n",
      " 67  highway_range_ft2                  5115 non-null   float64\n",
      "dtypes: float64(31), int32(9), int64(28)\n",
      "memory usage: 2.5 MB\n"
     ]
    }
   ],
   "source": [
    "df.info()"
   ]
  },
  {
   "cell_type": "code",
   "execution_count": 43,
   "metadata": {
    "colab": {
     "base_uri": "https://localhost:8080/",
     "height": 443
    },
    "id": "mJmbM1TqUyIG",
    "outputId": "125cc921-e6f5-441c-8d4d-1dfc422acc9a"
   },
   "outputs": [
    {
     "data": {
      "text/html": [
       "<div>\n",
       "<style scoped>\n",
       "    .dataframe tbody tr th:only-of-type {\n",
       "        vertical-align: middle;\n",
       "    }\n",
       "\n",
       "    .dataframe tbody tr th {\n",
       "        vertical-align: top;\n",
       "    }\n",
       "\n",
       "    .dataframe thead th {\n",
       "        text-align: right;\n",
       "    }\n",
       "</style>\n",
       "<table border=\"1\" class=\"dataframe\">\n",
       "  <thead>\n",
       "    <tr style=\"text-align: right;\">\n",
       "      <th></th>\n",
       "      <th>vehicle_id</th>\n",
       "      <th>year</th>\n",
       "      <th>make</th>\n",
       "      <th>model</th>\n",
       "      <th>class</th>\n",
       "      <th>drive</th>\n",
       "      <th>transmission</th>\n",
       "      <th>engine_index</th>\n",
       "      <th>engine_cylinders</th>\n",
       "      <th>engine_displacement</th>\n",
       "      <th>...</th>\n",
       "      <th>hours_to_charge_240v</th>\n",
       "      <th>hours_to_charge_ac_240v</th>\n",
       "      <th>composite_city_mpg</th>\n",
       "      <th>composite_highway_mpg</th>\n",
       "      <th>composite_combined_mpg</th>\n",
       "      <th>range_ft1</th>\n",
       "      <th>city_range_ft1</th>\n",
       "      <th>highway_range_ft1</th>\n",
       "      <th>city_range_ft2</th>\n",
       "      <th>highway_range_ft2</th>\n",
       "    </tr>\n",
       "  </thead>\n",
       "  <tbody>\n",
       "    <tr>\n",
       "      <th>vehicle_id</th>\n",
       "      <td>1.000000</td>\n",
       "      <td>0.990227</td>\n",
       "      <td>-0.245924</td>\n",
       "      <td>-0.042045</td>\n",
       "      <td>-0.076748</td>\n",
       "      <td>-0.077166</td>\n",
       "      <td>-0.365475</td>\n",
       "      <td>-0.635815</td>\n",
       "      <td>0.201279</td>\n",
       "      <td>0.116242</td>\n",
       "      <td>...</td>\n",
       "      <td>0.061899</td>\n",
       "      <td>NaN</td>\n",
       "      <td>0.065506</td>\n",
       "      <td>0.066112</td>\n",
       "      <td>0.065825</td>\n",
       "      <td>NaN</td>\n",
       "      <td>NaN</td>\n",
       "      <td>NaN</td>\n",
       "      <td>0.062772</td>\n",
       "      <td>0.063392</td>\n",
       "    </tr>\n",
       "    <tr>\n",
       "      <th>year</th>\n",
       "      <td>0.990227</td>\n",
       "      <td>1.000000</td>\n",
       "      <td>-0.225920</td>\n",
       "      <td>-0.039027</td>\n",
       "      <td>-0.082801</td>\n",
       "      <td>-0.090265</td>\n",
       "      <td>-0.359083</td>\n",
       "      <td>-0.676097</td>\n",
       "      <td>0.205457</td>\n",
       "      <td>0.120520</td>\n",
       "      <td>...</td>\n",
       "      <td>0.055564</td>\n",
       "      <td>NaN</td>\n",
       "      <td>0.058852</td>\n",
       "      <td>0.059401</td>\n",
       "      <td>0.059143</td>\n",
       "      <td>NaN</td>\n",
       "      <td>NaN</td>\n",
       "      <td>NaN</td>\n",
       "      <td>0.056203</td>\n",
       "      <td>0.056783</td>\n",
       "    </tr>\n",
       "    <tr>\n",
       "      <th>make</th>\n",
       "      <td>-0.245924</td>\n",
       "      <td>-0.225920</td>\n",
       "      <td>1.000000</td>\n",
       "      <td>0.158878</td>\n",
       "      <td>-0.095889</td>\n",
       "      <td>-0.104682</td>\n",
       "      <td>0.125934</td>\n",
       "      <td>0.208222</td>\n",
       "      <td>-0.166288</td>\n",
       "      <td>-0.142487</td>\n",
       "      <td>...</td>\n",
       "      <td>-0.028628</td>\n",
       "      <td>NaN</td>\n",
       "      <td>-0.039673</td>\n",
       "      <td>-0.038061</td>\n",
       "      <td>-0.038911</td>\n",
       "      <td>NaN</td>\n",
       "      <td>NaN</td>\n",
       "      <td>NaN</td>\n",
       "      <td>-0.032407</td>\n",
       "      <td>-0.033623</td>\n",
       "    </tr>\n",
       "    <tr>\n",
       "      <th>model</th>\n",
       "      <td>-0.042045</td>\n",
       "      <td>-0.039027</td>\n",
       "      <td>0.158878</td>\n",
       "      <td>1.000000</td>\n",
       "      <td>0.095186</td>\n",
       "      <td>-0.157398</td>\n",
       "      <td>-0.048431</td>\n",
       "      <td>-0.061065</td>\n",
       "      <td>-0.066681</td>\n",
       "      <td>-0.041488</td>\n",
       "      <td>...</td>\n",
       "      <td>0.031171</td>\n",
       "      <td>NaN</td>\n",
       "      <td>0.023707</td>\n",
       "      <td>0.021725</td>\n",
       "      <td>0.022701</td>\n",
       "      <td>NaN</td>\n",
       "      <td>NaN</td>\n",
       "      <td>NaN</td>\n",
       "      <td>0.028354</td>\n",
       "      <td>0.028681</td>\n",
       "    </tr>\n",
       "    <tr>\n",
       "      <th>class</th>\n",
       "      <td>-0.076748</td>\n",
       "      <td>-0.082801</td>\n",
       "      <td>-0.095889</td>\n",
       "      <td>0.095186</td>\n",
       "      <td>1.000000</td>\n",
       "      <td>0.047147</td>\n",
       "      <td>0.036172</td>\n",
       "      <td>0.089264</td>\n",
       "      <td>0.006393</td>\n",
       "      <td>0.018236</td>\n",
       "      <td>...</td>\n",
       "      <td>0.028770</td>\n",
       "      <td>NaN</td>\n",
       "      <td>0.015640</td>\n",
       "      <td>0.012678</td>\n",
       "      <td>0.014215</td>\n",
       "      <td>NaN</td>\n",
       "      <td>NaN</td>\n",
       "      <td>NaN</td>\n",
       "      <td>0.028111</td>\n",
       "      <td>0.026315</td>\n",
       "    </tr>\n",
       "    <tr>\n",
       "      <th>...</th>\n",
       "      <td>...</td>\n",
       "      <td>...</td>\n",
       "      <td>...</td>\n",
       "      <td>...</td>\n",
       "      <td>...</td>\n",
       "      <td>...</td>\n",
       "      <td>...</td>\n",
       "      <td>...</td>\n",
       "      <td>...</td>\n",
       "      <td>...</td>\n",
       "      <td>...</td>\n",
       "      <td>...</td>\n",
       "      <td>...</td>\n",
       "      <td>...</td>\n",
       "      <td>...</td>\n",
       "      <td>...</td>\n",
       "      <td>...</td>\n",
       "      <td>...</td>\n",
       "      <td>...</td>\n",
       "      <td>...</td>\n",
       "      <td>...</td>\n",
       "    </tr>\n",
       "    <tr>\n",
       "      <th>range_ft1</th>\n",
       "      <td>NaN</td>\n",
       "      <td>NaN</td>\n",
       "      <td>NaN</td>\n",
       "      <td>NaN</td>\n",
       "      <td>NaN</td>\n",
       "      <td>NaN</td>\n",
       "      <td>NaN</td>\n",
       "      <td>NaN</td>\n",
       "      <td>NaN</td>\n",
       "      <td>NaN</td>\n",
       "      <td>...</td>\n",
       "      <td>NaN</td>\n",
       "      <td>NaN</td>\n",
       "      <td>NaN</td>\n",
       "      <td>NaN</td>\n",
       "      <td>NaN</td>\n",
       "      <td>NaN</td>\n",
       "      <td>NaN</td>\n",
       "      <td>NaN</td>\n",
       "      <td>NaN</td>\n",
       "      <td>NaN</td>\n",
       "    </tr>\n",
       "    <tr>\n",
       "      <th>city_range_ft1</th>\n",
       "      <td>NaN</td>\n",
       "      <td>NaN</td>\n",
       "      <td>NaN</td>\n",
       "      <td>NaN</td>\n",
       "      <td>NaN</td>\n",
       "      <td>NaN</td>\n",
       "      <td>NaN</td>\n",
       "      <td>NaN</td>\n",
       "      <td>NaN</td>\n",
       "      <td>NaN</td>\n",
       "      <td>...</td>\n",
       "      <td>NaN</td>\n",
       "      <td>NaN</td>\n",
       "      <td>NaN</td>\n",
       "      <td>NaN</td>\n",
       "      <td>NaN</td>\n",
       "      <td>NaN</td>\n",
       "      <td>NaN</td>\n",
       "      <td>NaN</td>\n",
       "      <td>NaN</td>\n",
       "      <td>NaN</td>\n",
       "    </tr>\n",
       "    <tr>\n",
       "      <th>highway_range_ft1</th>\n",
       "      <td>NaN</td>\n",
       "      <td>NaN</td>\n",
       "      <td>NaN</td>\n",
       "      <td>NaN</td>\n",
       "      <td>NaN</td>\n",
       "      <td>NaN</td>\n",
       "      <td>NaN</td>\n",
       "      <td>NaN</td>\n",
       "      <td>NaN</td>\n",
       "      <td>NaN</td>\n",
       "      <td>...</td>\n",
       "      <td>NaN</td>\n",
       "      <td>NaN</td>\n",
       "      <td>NaN</td>\n",
       "      <td>NaN</td>\n",
       "      <td>NaN</td>\n",
       "      <td>NaN</td>\n",
       "      <td>NaN</td>\n",
       "      <td>NaN</td>\n",
       "      <td>NaN</td>\n",
       "      <td>NaN</td>\n",
       "    </tr>\n",
       "    <tr>\n",
       "      <th>city_range_ft2</th>\n",
       "      <td>0.062772</td>\n",
       "      <td>0.056203</td>\n",
       "      <td>-0.032407</td>\n",
       "      <td>0.028354</td>\n",
       "      <td>0.028111</td>\n",
       "      <td>0.013868</td>\n",
       "      <td>-0.030394</td>\n",
       "      <td>-0.025712</td>\n",
       "      <td>-0.019605</td>\n",
       "      <td>-0.026524</td>\n",
       "      <td>...</td>\n",
       "      <td>0.984631</td>\n",
       "      <td>NaN</td>\n",
       "      <td>0.934682</td>\n",
       "      <td>0.934796</td>\n",
       "      <td>0.935121</td>\n",
       "      <td>NaN</td>\n",
       "      <td>NaN</td>\n",
       "      <td>NaN</td>\n",
       "      <td>1.000000</td>\n",
       "      <td>0.997723</td>\n",
       "    </tr>\n",
       "    <tr>\n",
       "      <th>highway_range_ft2</th>\n",
       "      <td>0.063392</td>\n",
       "      <td>0.056783</td>\n",
       "      <td>-0.033623</td>\n",
       "      <td>0.028681</td>\n",
       "      <td>0.026315</td>\n",
       "      <td>0.015224</td>\n",
       "      <td>-0.028686</td>\n",
       "      <td>-0.025870</td>\n",
       "      <td>-0.020296</td>\n",
       "      <td>-0.026775</td>\n",
       "      <td>...</td>\n",
       "      <td>0.984085</td>\n",
       "      <td>NaN</td>\n",
       "      <td>0.941983</td>\n",
       "      <td>0.944668</td>\n",
       "      <td>0.943425</td>\n",
       "      <td>NaN</td>\n",
       "      <td>NaN</td>\n",
       "      <td>NaN</td>\n",
       "      <td>0.997723</td>\n",
       "      <td>1.000000</td>\n",
       "    </tr>\n",
       "  </tbody>\n",
       "</table>\n",
       "<p>68 rows × 68 columns</p>\n",
       "</div>"
      ],
      "text/plain": [
       "                   vehicle_id      year      make     model     class  \\\n",
       "vehicle_id           1.000000  0.990227 -0.245924 -0.042045 -0.076748   \n",
       "year                 0.990227  1.000000 -0.225920 -0.039027 -0.082801   \n",
       "make                -0.245924 -0.225920  1.000000  0.158878 -0.095889   \n",
       "model               -0.042045 -0.039027  0.158878  1.000000  0.095186   \n",
       "class               -0.076748 -0.082801 -0.095889  0.095186  1.000000   \n",
       "...                       ...       ...       ...       ...       ...   \n",
       "range_ft1                 NaN       NaN       NaN       NaN       NaN   \n",
       "city_range_ft1            NaN       NaN       NaN       NaN       NaN   \n",
       "highway_range_ft1         NaN       NaN       NaN       NaN       NaN   \n",
       "city_range_ft2       0.062772  0.056203 -0.032407  0.028354  0.028111   \n",
       "highway_range_ft2    0.063392  0.056783 -0.033623  0.028681  0.026315   \n",
       "\n",
       "                      drive  transmission  engine_index  engine_cylinders  \\\n",
       "vehicle_id        -0.077166     -0.365475     -0.635815          0.201279   \n",
       "year              -0.090265     -0.359083     -0.676097          0.205457   \n",
       "make              -0.104682      0.125934      0.208222         -0.166288   \n",
       "model             -0.157398     -0.048431     -0.061065         -0.066681   \n",
       "class              0.047147      0.036172      0.089264          0.006393   \n",
       "...                     ...           ...           ...               ...   \n",
       "range_ft1               NaN           NaN           NaN               NaN   \n",
       "city_range_ft1          NaN           NaN           NaN               NaN   \n",
       "highway_range_ft1       NaN           NaN           NaN               NaN   \n",
       "city_range_ft2     0.013868     -0.030394     -0.025712         -0.019605   \n",
       "highway_range_ft2  0.015224     -0.028686     -0.025870         -0.020296   \n",
       "\n",
       "                   engine_displacement  ...  hours_to_charge_240v  \\\n",
       "vehicle_id                    0.116242  ...              0.061899   \n",
       "year                          0.120520  ...              0.055564   \n",
       "make                         -0.142487  ...             -0.028628   \n",
       "model                        -0.041488  ...              0.031171   \n",
       "class                         0.018236  ...              0.028770   \n",
       "...                                ...  ...                   ...   \n",
       "range_ft1                          NaN  ...                   NaN   \n",
       "city_range_ft1                     NaN  ...                   NaN   \n",
       "highway_range_ft1                  NaN  ...                   NaN   \n",
       "city_range_ft2               -0.026524  ...              0.984631   \n",
       "highway_range_ft2            -0.026775  ...              0.984085   \n",
       "\n",
       "                   hours_to_charge_ac_240v  composite_city_mpg  \\\n",
       "vehicle_id                             NaN            0.065506   \n",
       "year                                   NaN            0.058852   \n",
       "make                                   NaN           -0.039673   \n",
       "model                                  NaN            0.023707   \n",
       "class                                  NaN            0.015640   \n",
       "...                                    ...                 ...   \n",
       "range_ft1                              NaN                 NaN   \n",
       "city_range_ft1                         NaN                 NaN   \n",
       "highway_range_ft1                      NaN                 NaN   \n",
       "city_range_ft2                         NaN            0.934682   \n",
       "highway_range_ft2                      NaN            0.941983   \n",
       "\n",
       "                   composite_highway_mpg  composite_combined_mpg  range_ft1  \\\n",
       "vehicle_id                      0.066112                0.065825        NaN   \n",
       "year                            0.059401                0.059143        NaN   \n",
       "make                           -0.038061               -0.038911        NaN   \n",
       "model                           0.021725                0.022701        NaN   \n",
       "class                           0.012678                0.014215        NaN   \n",
       "...                                  ...                     ...        ...   \n",
       "range_ft1                            NaN                     NaN        NaN   \n",
       "city_range_ft1                       NaN                     NaN        NaN   \n",
       "highway_range_ft1                    NaN                     NaN        NaN   \n",
       "city_range_ft2                  0.934796                0.935121        NaN   \n",
       "highway_range_ft2               0.944668                0.943425        NaN   \n",
       "\n",
       "                   city_range_ft1  highway_range_ft1  city_range_ft2  \\\n",
       "vehicle_id                    NaN                NaN        0.062772   \n",
       "year                          NaN                NaN        0.056203   \n",
       "make                          NaN                NaN       -0.032407   \n",
       "model                         NaN                NaN        0.028354   \n",
       "class                         NaN                NaN        0.028111   \n",
       "...                           ...                ...             ...   \n",
       "range_ft1                     NaN                NaN             NaN   \n",
       "city_range_ft1                NaN                NaN             NaN   \n",
       "highway_range_ft1             NaN                NaN             NaN   \n",
       "city_range_ft2                NaN                NaN        1.000000   \n",
       "highway_range_ft2             NaN                NaN        0.997723   \n",
       "\n",
       "                   highway_range_ft2  \n",
       "vehicle_id                  0.063392  \n",
       "year                        0.056783  \n",
       "make                       -0.033623  \n",
       "model                       0.028681  \n",
       "class                       0.026315  \n",
       "...                              ...  \n",
       "range_ft1                        NaN  \n",
       "city_range_ft1                   NaN  \n",
       "highway_range_ft1                NaN  \n",
       "city_range_ft2              0.997723  \n",
       "highway_range_ft2           1.000000  \n",
       "\n",
       "[68 rows x 68 columns]"
      ]
     },
     "execution_count": 43,
     "metadata": {},
     "output_type": "execute_result"
    }
   ],
   "source": [
    "df.corr()"
   ]
  },
  {
   "cell_type": "code",
   "execution_count": 45,
   "metadata": {
    "colab": {
     "base_uri": "https://localhost:8080/"
    },
    "id": "a29z28n7UyDo",
    "outputId": "20576584-5ce2-45e6-bea7-6b64650c6b23"
   },
   "outputs": [
    {
     "name": "stdout",
     "output_type": "stream",
     "text": [
      "Column pairs with correlation higher than 90%:\n",
      "Columns: vehicle_id and year, Correlation: 0.99\n",
      "Columns: year and vehicle_id, Correlation: 0.99\n",
      "Columns: engine_cylinders and engine_displacement, Correlation: 0.92\n",
      "Columns: engine_displacement and engine_cylinders, Correlation: 0.92\n",
      "Columns: fuel_type and fuel_type_1, Correlation: 0.95\n",
      "Columns: fuel_type_1 and fuel_type, Correlation: 0.95\n",
      "Columns: city_mpg_ft1 and highway_mpg_ft1, Correlation: 0.94\n",
      "Columns: city_mpg_ft1 and unadjusted_city_mpg_ft1, Correlation: 1.00\n",
      "Columns: city_mpg_ft1 and unadjusted_highway_mpg_ft1, Correlation: 0.94\n",
      "Columns: city_mpg_ft1 and combined_mpg_ft1, Correlation: 0.99\n",
      "Columns: city_mpg_ft1 and tailpipe_co2_in_grams_mile_ft1, Correlation: -0.90\n",
      "Columns: unrounded_city_mpg_ft1 and unrounded_highway_mpg_ft1, Correlation: 0.99\n",
      "Columns: unrounded_city_mpg_ft1 and unrounded_combined_mpg_ft1, Correlation: 1.00\n",
      "Columns: city_mpg_ft2 and unrounded_city_mpg_ft2, Correlation: 1.00\n",
      "Columns: city_mpg_ft2 and highway_mpg_ft2, Correlation: 0.99\n",
      "Columns: city_mpg_ft2 and unrounded_highway_mpg_ft2, Correlation: 0.99\n",
      "Columns: city_mpg_ft2 and unadjusted_city_mpg_ft2, Correlation: 1.00\n",
      "Columns: city_mpg_ft2 and unadjusted_highway_mpg_ft2, Correlation: 0.99\n",
      "Columns: city_mpg_ft2 and combined_mpg_ft2, Correlation: 1.00\n",
      "Columns: city_mpg_ft2 and unrounded_combined_mpg_ft2, Correlation: 1.00\n",
      "Columns: city_mpg_ft2 and composite_city_mpg, Correlation: 0.93\n",
      "Columns: city_mpg_ft2 and composite_highway_mpg, Correlation: 0.93\n",
      "Columns: city_mpg_ft2 and composite_combined_mpg, Correlation: 0.93\n",
      "Columns: unrounded_city_mpg_ft2 and city_mpg_ft2, Correlation: 1.00\n",
      "Columns: unrounded_city_mpg_ft2 and highway_mpg_ft2, Correlation: 0.99\n",
      "Columns: unrounded_city_mpg_ft2 and unrounded_highway_mpg_ft2, Correlation: 0.99\n",
      "Columns: unrounded_city_mpg_ft2 and unadjusted_city_mpg_ft2, Correlation: 1.00\n",
      "Columns: unrounded_city_mpg_ft2 and unadjusted_highway_mpg_ft2, Correlation: 0.99\n",
      "Columns: unrounded_city_mpg_ft2 and combined_mpg_ft2, Correlation: 1.00\n",
      "Columns: unrounded_city_mpg_ft2 and unrounded_combined_mpg_ft2, Correlation: 1.00\n",
      "Columns: unrounded_city_mpg_ft2 and composite_city_mpg, Correlation: 0.93\n",
      "Columns: unrounded_city_mpg_ft2 and composite_highway_mpg, Correlation: 0.93\n",
      "Columns: unrounded_city_mpg_ft2 and composite_combined_mpg, Correlation: 0.93\n",
      "Columns: city_gasoline_consumption_cd and highway_gasoline_consumption_cd, Correlation: 0.99\n",
      "Columns: city_gasoline_consumption_cd and combined_gasoline_consumption_cd, Correlation: 1.00\n",
      "Columns: city_electricity_consumption and city_utility_factor, Correlation: 0.95\n",
      "Columns: city_electricity_consumption and highway_electricity_consumption, Correlation: 1.00\n",
      "Columns: city_electricity_consumption and highway_utility_factor, Correlation: 0.95\n",
      "Columns: city_electricity_consumption and combined_electricity_consumption, Correlation: 1.00\n",
      "Columns: city_electricity_consumption and combined_utility_factor, Correlation: 0.95\n",
      "Columns: city_electricity_consumption and hours_to_charge_240v, Correlation: 0.93\n",
      "Columns: city_electricity_consumption and composite_city_mpg, Correlation: 0.94\n",
      "Columns: city_electricity_consumption and composite_highway_mpg, Correlation: 0.95\n",
      "Columns: city_electricity_consumption and composite_combined_mpg, Correlation: 0.95\n",
      "Columns: city_electricity_consumption and city_range_ft2, Correlation: 0.92\n",
      "Columns: city_electricity_consumption and highway_range_ft2, Correlation: 0.93\n",
      "Columns: city_utility_factor and city_electricity_consumption, Correlation: 0.95\n",
      "Columns: city_utility_factor and highway_electricity_consumption, Correlation: 0.95\n",
      "Columns: city_utility_factor and highway_utility_factor, Correlation: 1.00\n",
      "Columns: city_utility_factor and combined_electricity_consumption, Correlation: 0.95\n",
      "Columns: city_utility_factor and combined_utility_factor, Correlation: 1.00\n",
      "Columns: city_utility_factor and hours_to_charge_240v, Correlation: 0.97\n",
      "Columns: city_utility_factor and composite_city_mpg, Correlation: 0.96\n",
      "Columns: city_utility_factor and composite_highway_mpg, Correlation: 0.97\n",
      "Columns: city_utility_factor and composite_combined_mpg, Correlation: 0.96\n",
      "Columns: city_utility_factor and city_range_ft2, Correlation: 0.99\n",
      "Columns: city_utility_factor and highway_range_ft2, Correlation: 0.99\n",
      "Columns: highway_mpg_ft1 and city_mpg_ft1, Correlation: 0.94\n",
      "Columns: highway_mpg_ft1 and unadjusted_city_mpg_ft1, Correlation: 0.94\n",
      "Columns: highway_mpg_ft1 and unadjusted_highway_mpg_ft1, Correlation: 0.99\n",
      "Columns: highway_mpg_ft1 and combined_mpg_ft1, Correlation: 0.97\n",
      "Columns: highway_mpg_ft1 and tailpipe_co2_in_grams_mile_ft1, Correlation: -0.90\n",
      "Columns: unrounded_highway_mpg_ft1 and unrounded_city_mpg_ft1, Correlation: 0.99\n",
      "Columns: unrounded_highway_mpg_ft1 and unrounded_combined_mpg_ft1, Correlation: 1.00\n",
      "Columns: highway_mpg_ft2 and city_mpg_ft2, Correlation: 0.99\n",
      "Columns: highway_mpg_ft2 and unrounded_city_mpg_ft2, Correlation: 0.99\n",
      "Columns: highway_mpg_ft2 and unrounded_highway_mpg_ft2, Correlation: 1.00\n",
      "Columns: highway_mpg_ft2 and unadjusted_city_mpg_ft2, Correlation: 0.98\n",
      "Columns: highway_mpg_ft2 and unadjusted_highway_mpg_ft2, Correlation: 1.00\n",
      "Columns: highway_mpg_ft2 and combined_mpg_ft2, Correlation: 1.00\n",
      "Columns: highway_mpg_ft2 and unrounded_combined_mpg_ft2, Correlation: 0.99\n",
      "Columns: unrounded_highway_mpg_ft2 and city_mpg_ft2, Correlation: 0.99\n",
      "Columns: unrounded_highway_mpg_ft2 and unrounded_city_mpg_ft2, Correlation: 0.99\n",
      "Columns: unrounded_highway_mpg_ft2 and highway_mpg_ft2, Correlation: 1.00\n",
      "Columns: unrounded_highway_mpg_ft2 and unadjusted_city_mpg_ft2, Correlation: 0.98\n",
      "Columns: unrounded_highway_mpg_ft2 and unadjusted_highway_mpg_ft2, Correlation: 1.00\n",
      "Columns: unrounded_highway_mpg_ft2 and combined_mpg_ft2, Correlation: 1.00\n",
      "Columns: unrounded_highway_mpg_ft2 and unrounded_combined_mpg_ft2, Correlation: 1.00\n",
      "Columns: highway_gasoline_consumption_cd and city_gasoline_consumption_cd, Correlation: 0.99\n",
      "Columns: highway_gasoline_consumption_cd and combined_gasoline_consumption_cd, Correlation: 1.00\n",
      "Columns: highway_electricity_consumption and city_electricity_consumption, Correlation: 1.00\n",
      "Columns: highway_electricity_consumption and city_utility_factor, Correlation: 0.95\n",
      "Columns: highway_electricity_consumption and highway_utility_factor, Correlation: 0.95\n",
      "Columns: highway_electricity_consumption and combined_electricity_consumption, Correlation: 1.00\n",
      "Columns: highway_electricity_consumption and combined_utility_factor, Correlation: 0.95\n",
      "Columns: highway_electricity_consumption and hours_to_charge_240v, Correlation: 0.93\n",
      "Columns: highway_electricity_consumption and composite_city_mpg, Correlation: 0.94\n",
      "Columns: highway_electricity_consumption and composite_highway_mpg, Correlation: 0.94\n",
      "Columns: highway_electricity_consumption and composite_combined_mpg, Correlation: 0.94\n",
      "Columns: highway_electricity_consumption and city_range_ft2, Correlation: 0.92\n",
      "Columns: highway_electricity_consumption and highway_range_ft2, Correlation: 0.93\n",
      "Columns: highway_utility_factor and city_electricity_consumption, Correlation: 0.95\n",
      "Columns: highway_utility_factor and city_utility_factor, Correlation: 1.00\n",
      "Columns: highway_utility_factor and highway_electricity_consumption, Correlation: 0.95\n",
      "Columns: highway_utility_factor and combined_electricity_consumption, Correlation: 0.95\n",
      "Columns: highway_utility_factor and combined_utility_factor, Correlation: 1.00\n",
      "Columns: highway_utility_factor and hours_to_charge_240v, Correlation: 0.97\n",
      "Columns: highway_utility_factor and composite_city_mpg, Correlation: 0.96\n",
      "Columns: highway_utility_factor and composite_highway_mpg, Correlation: 0.97\n",
      "Columns: highway_utility_factor and composite_combined_mpg, Correlation: 0.97\n",
      "Columns: highway_utility_factor and city_range_ft2, Correlation: 0.99\n",
      "Columns: highway_utility_factor and highway_range_ft2, Correlation: 0.99\n",
      "Columns: unadjusted_city_mpg_ft1 and city_mpg_ft1, Correlation: 1.00\n",
      "Columns: unadjusted_city_mpg_ft1 and highway_mpg_ft1, Correlation: 0.94\n",
      "Columns: unadjusted_city_mpg_ft1 and unadjusted_highway_mpg_ft1, Correlation: 0.94\n",
      "Columns: unadjusted_city_mpg_ft1 and combined_mpg_ft1, Correlation: 0.99\n",
      "Columns: unadjusted_highway_mpg_ft1 and city_mpg_ft1, Correlation: 0.94\n",
      "Columns: unadjusted_highway_mpg_ft1 and highway_mpg_ft1, Correlation: 0.99\n",
      "Columns: unadjusted_highway_mpg_ft1 and unadjusted_city_mpg_ft1, Correlation: 0.94\n",
      "Columns: unadjusted_highway_mpg_ft1 and combined_mpg_ft1, Correlation: 0.97\n",
      "Columns: unadjusted_city_mpg_ft2 and city_mpg_ft2, Correlation: 1.00\n",
      "Columns: unadjusted_city_mpg_ft2 and unrounded_city_mpg_ft2, Correlation: 1.00\n",
      "Columns: unadjusted_city_mpg_ft2 and highway_mpg_ft2, Correlation: 0.98\n",
      "Columns: unadjusted_city_mpg_ft2 and unrounded_highway_mpg_ft2, Correlation: 0.98\n",
      "Columns: unadjusted_city_mpg_ft2 and unadjusted_highway_mpg_ft2, Correlation: 0.98\n",
      "Columns: unadjusted_city_mpg_ft2 and combined_mpg_ft2, Correlation: 0.99\n",
      "Columns: unadjusted_city_mpg_ft2 and unrounded_combined_mpg_ft2, Correlation: 0.99\n",
      "Columns: unadjusted_city_mpg_ft2 and composite_city_mpg, Correlation: 0.94\n",
      "Columns: unadjusted_city_mpg_ft2 and composite_highway_mpg, Correlation: 0.94\n",
      "Columns: unadjusted_city_mpg_ft2 and composite_combined_mpg, Correlation: 0.94\n",
      "Columns: unadjusted_highway_mpg_ft2 and city_mpg_ft2, Correlation: 0.99\n",
      "Columns: unadjusted_highway_mpg_ft2 and unrounded_city_mpg_ft2, Correlation: 0.99\n",
      "Columns: unadjusted_highway_mpg_ft2 and highway_mpg_ft2, Correlation: 1.00\n",
      "Columns: unadjusted_highway_mpg_ft2 and unrounded_highway_mpg_ft2, Correlation: 1.00\n",
      "Columns: unadjusted_highway_mpg_ft2 and unadjusted_city_mpg_ft2, Correlation: 0.98\n",
      "Columns: unadjusted_highway_mpg_ft2 and combined_mpg_ft2, Correlation: 1.00\n",
      "Columns: unadjusted_highway_mpg_ft2 and unrounded_combined_mpg_ft2, Correlation: 1.00\n",
      "Columns: combined_mpg_ft1 and city_mpg_ft1, Correlation: 0.99\n",
      "Columns: combined_mpg_ft1 and highway_mpg_ft1, Correlation: 0.97\n",
      "Columns: combined_mpg_ft1 and unadjusted_city_mpg_ft1, Correlation: 0.99\n",
      "Columns: combined_mpg_ft1 and unadjusted_highway_mpg_ft1, Correlation: 0.97\n",
      "Columns: combined_mpg_ft1 and annual_consumption_in_barrels_ft1, Correlation: -0.91\n",
      "Columns: combined_mpg_ft1 and tailpipe_co2_in_grams_mile_ft1, Correlation: -0.92\n",
      "Columns: unrounded_combined_mpg_ft1 and unrounded_city_mpg_ft1, Correlation: 1.00\n",
      "Columns: unrounded_combined_mpg_ft1 and unrounded_highway_mpg_ft1, Correlation: 1.00\n",
      "Columns: combined_mpg_ft2 and city_mpg_ft2, Correlation: 1.00\n",
      "Columns: combined_mpg_ft2 and unrounded_city_mpg_ft2, Correlation: 1.00\n",
      "Columns: combined_mpg_ft2 and highway_mpg_ft2, Correlation: 1.00\n",
      "Columns: combined_mpg_ft2 and unrounded_highway_mpg_ft2, Correlation: 1.00\n",
      "Columns: combined_mpg_ft2 and unadjusted_city_mpg_ft2, Correlation: 0.99\n",
      "Columns: combined_mpg_ft2 and unadjusted_highway_mpg_ft2, Correlation: 1.00\n",
      "Columns: combined_mpg_ft2 and unrounded_combined_mpg_ft2, Correlation: 1.00\n",
      "Columns: combined_mpg_ft2 and composite_city_mpg, Correlation: 0.92\n",
      "Columns: combined_mpg_ft2 and composite_highway_mpg, Correlation: 0.92\n",
      "Columns: combined_mpg_ft2 and composite_combined_mpg, Correlation: 0.92\n",
      "Columns: unrounded_combined_mpg_ft2 and city_mpg_ft2, Correlation: 1.00\n",
      "Columns: unrounded_combined_mpg_ft2 and unrounded_city_mpg_ft2, Correlation: 1.00\n",
      "Columns: unrounded_combined_mpg_ft2 and highway_mpg_ft2, Correlation: 0.99\n",
      "Columns: unrounded_combined_mpg_ft2 and unrounded_highway_mpg_ft2, Correlation: 1.00\n",
      "Columns: unrounded_combined_mpg_ft2 and unadjusted_city_mpg_ft2, Correlation: 0.99\n",
      "Columns: unrounded_combined_mpg_ft2 and unadjusted_highway_mpg_ft2, Correlation: 1.00\n",
      "Columns: unrounded_combined_mpg_ft2 and combined_mpg_ft2, Correlation: 1.00\n",
      "Columns: unrounded_combined_mpg_ft2 and composite_city_mpg, Correlation: 0.92\n",
      "Columns: unrounded_combined_mpg_ft2 and composite_highway_mpg, Correlation: 0.92\n",
      "Columns: unrounded_combined_mpg_ft2 and composite_combined_mpg, Correlation: 0.92\n",
      "Columns: combined_electricity_consumption and city_electricity_consumption, Correlation: 1.00\n",
      "Columns: combined_electricity_consumption and city_utility_factor, Correlation: 0.95\n",
      "Columns: combined_electricity_consumption and highway_electricity_consumption, Correlation: 1.00\n",
      "Columns: combined_electricity_consumption and highway_utility_factor, Correlation: 0.95\n",
      "Columns: combined_electricity_consumption and combined_utility_factor, Correlation: 0.95\n",
      "Columns: combined_electricity_consumption and hours_to_charge_240v, Correlation: 0.93\n",
      "Columns: combined_electricity_consumption and composite_city_mpg, Correlation: 0.94\n",
      "Columns: combined_electricity_consumption and composite_highway_mpg, Correlation: 0.95\n",
      "Columns: combined_electricity_consumption and composite_combined_mpg, Correlation: 0.94\n",
      "Columns: combined_electricity_consumption and city_range_ft2, Correlation: 0.92\n",
      "Columns: combined_electricity_consumption and highway_range_ft2, Correlation: 0.93\n",
      "Columns: combined_gasoline_consumption_cd and city_gasoline_consumption_cd, Correlation: 1.00\n",
      "Columns: combined_gasoline_consumption_cd and highway_gasoline_consumption_cd, Correlation: 1.00\n",
      "Columns: combined_utility_factor and city_electricity_consumption, Correlation: 0.95\n",
      "Columns: combined_utility_factor and city_utility_factor, Correlation: 1.00\n",
      "Columns: combined_utility_factor and highway_electricity_consumption, Correlation: 0.95\n",
      "Columns: combined_utility_factor and highway_utility_factor, Correlation: 1.00\n",
      "Columns: combined_utility_factor and combined_electricity_consumption, Correlation: 0.95\n",
      "Columns: combined_utility_factor and hours_to_charge_240v, Correlation: 0.97\n",
      "Columns: combined_utility_factor and composite_city_mpg, Correlation: 0.96\n",
      "Columns: combined_utility_factor and composite_highway_mpg, Correlation: 0.97\n",
      "Columns: combined_utility_factor and composite_combined_mpg, Correlation: 0.96\n",
      "Columns: combined_utility_factor and city_range_ft2, Correlation: 0.99\n",
      "Columns: combined_utility_factor and highway_range_ft2, Correlation: 0.99\n",
      "Columns: annual_fuel_cost_ft1 and save_or_spend_5_year, Correlation: -1.00\n",
      "Columns: annual_fuel_cost_ft1 and annual_consumption_in_barrels_ft1, Correlation: 0.94\n",
      "Columns: annual_fuel_cost_ft1 and tailpipe_co2_in_grams_mile_ft1, Correlation: 0.94\n",
      "Columns: annual_fuel_cost_ft2 and tailpipe_co2_in_grams_mile_ft2, Correlation: 1.00\n",
      "Columns: save_or_spend_5_year and annual_fuel_cost_ft1, Correlation: -1.00\n",
      "Columns: save_or_spend_5_year and annual_consumption_in_barrels_ft1, Correlation: -0.94\n",
      "Columns: save_or_spend_5_year and tailpipe_co2_in_grams_mile_ft1, Correlation: -0.94\n",
      "Columns: annual_consumption_in_barrels_ft1 and combined_mpg_ft1, Correlation: -0.91\n",
      "Columns: annual_consumption_in_barrels_ft1 and annual_fuel_cost_ft1, Correlation: 0.94\n",
      "Columns: annual_consumption_in_barrels_ft1 and save_or_spend_5_year, Correlation: -0.94\n",
      "Columns: annual_consumption_in_barrels_ft1 and tailpipe_co2_in_grams_mile_ft1, Correlation: 1.00\n",
      "Columns: tailpipe_co2_in_grams_mile_ft1 and city_mpg_ft1, Correlation: -0.90\n",
      "Columns: tailpipe_co2_in_grams_mile_ft1 and highway_mpg_ft1, Correlation: -0.90\n",
      "Columns: tailpipe_co2_in_grams_mile_ft1 and combined_mpg_ft1, Correlation: -0.92\n",
      "Columns: tailpipe_co2_in_grams_mile_ft1 and annual_fuel_cost_ft1, Correlation: 0.94\n",
      "Columns: tailpipe_co2_in_grams_mile_ft1 and save_or_spend_5_year, Correlation: -0.94\n",
      "Columns: tailpipe_co2_in_grams_mile_ft1 and annual_consumption_in_barrels_ft1, Correlation: 1.00\n",
      "Columns: tailpipe_co2_in_grams_mile_ft2 and annual_fuel_cost_ft2, Correlation: 1.00\n",
      "Columns: fuel_economy_score and ghg_score, Correlation: 1.00\n",
      "Columns: ghg_score and fuel_economy_score, Correlation: 1.00\n",
      "Columns: x2d_passenger_volume and x2d_luggage_volume, Correlation: 0.97\n",
      "Columns: x2d_luggage_volume and x2d_passenger_volume, Correlation: 0.97\n",
      "Columns: hatchback_passenger_volume and hatchback_luggage_volume, Correlation: 0.91\n",
      "Columns: hatchback_luggage_volume and hatchback_passenger_volume, Correlation: 0.91\n",
      "Columns: hours_to_charge_240v and city_electricity_consumption, Correlation: 0.93\n",
      "Columns: hours_to_charge_240v and city_utility_factor, Correlation: 0.97\n",
      "Columns: hours_to_charge_240v and highway_electricity_consumption, Correlation: 0.93\n",
      "Columns: hours_to_charge_240v and highway_utility_factor, Correlation: 0.97\n",
      "Columns: hours_to_charge_240v and combined_electricity_consumption, Correlation: 0.93\n",
      "Columns: hours_to_charge_240v and combined_utility_factor, Correlation: 0.97\n",
      "Columns: hours_to_charge_240v and composite_city_mpg, Correlation: 0.91\n",
      "Columns: hours_to_charge_240v and composite_highway_mpg, Correlation: 0.91\n",
      "Columns: hours_to_charge_240v and composite_combined_mpg, Correlation: 0.91\n",
      "Columns: hours_to_charge_240v and city_range_ft2, Correlation: 0.98\n",
      "Columns: hours_to_charge_240v and highway_range_ft2, Correlation: 0.98\n",
      "Columns: composite_city_mpg and city_mpg_ft2, Correlation: 0.93\n",
      "Columns: composite_city_mpg and unrounded_city_mpg_ft2, Correlation: 0.93\n",
      "Columns: composite_city_mpg and city_electricity_consumption, Correlation: 0.94\n",
      "Columns: composite_city_mpg and city_utility_factor, Correlation: 0.96\n",
      "Columns: composite_city_mpg and highway_electricity_consumption, Correlation: 0.94\n",
      "Columns: composite_city_mpg and highway_utility_factor, Correlation: 0.96\n",
      "Columns: composite_city_mpg and unadjusted_city_mpg_ft2, Correlation: 0.94\n",
      "Columns: composite_city_mpg and combined_mpg_ft2, Correlation: 0.92\n",
      "Columns: composite_city_mpg and unrounded_combined_mpg_ft2, Correlation: 0.92\n",
      "Columns: composite_city_mpg and combined_electricity_consumption, Correlation: 0.94\n",
      "Columns: composite_city_mpg and combined_utility_factor, Correlation: 0.96\n",
      "Columns: composite_city_mpg and hours_to_charge_240v, Correlation: 0.91\n",
      "Columns: composite_city_mpg and composite_highway_mpg, Correlation: 1.00\n",
      "Columns: composite_city_mpg and composite_combined_mpg, Correlation: 1.00\n",
      "Columns: composite_city_mpg and city_range_ft2, Correlation: 0.93\n",
      "Columns: composite_city_mpg and highway_range_ft2, Correlation: 0.94\n",
      "Columns: composite_highway_mpg and city_mpg_ft2, Correlation: 0.93\n",
      "Columns: composite_highway_mpg and unrounded_city_mpg_ft2, Correlation: 0.93\n",
      "Columns: composite_highway_mpg and city_electricity_consumption, Correlation: 0.95\n",
      "Columns: composite_highway_mpg and city_utility_factor, Correlation: 0.97\n",
      "Columns: composite_highway_mpg and highway_electricity_consumption, Correlation: 0.94\n",
      "Columns: composite_highway_mpg and highway_utility_factor, Correlation: 0.97\n",
      "Columns: composite_highway_mpg and unadjusted_city_mpg_ft2, Correlation: 0.94\n",
      "Columns: composite_highway_mpg and combined_mpg_ft2, Correlation: 0.92\n",
      "Columns: composite_highway_mpg and unrounded_combined_mpg_ft2, Correlation: 0.92\n",
      "Columns: composite_highway_mpg and combined_electricity_consumption, Correlation: 0.95\n",
      "Columns: composite_highway_mpg and combined_utility_factor, Correlation: 0.97\n",
      "Columns: composite_highway_mpg and hours_to_charge_240v, Correlation: 0.91\n",
      "Columns: composite_highway_mpg and composite_city_mpg, Correlation: 1.00\n",
      "Columns: composite_highway_mpg and composite_combined_mpg, Correlation: 1.00\n",
      "Columns: composite_highway_mpg and city_range_ft2, Correlation: 0.93\n",
      "Columns: composite_highway_mpg and highway_range_ft2, Correlation: 0.94\n",
      "Columns: composite_combined_mpg and city_mpg_ft2, Correlation: 0.93\n",
      "Columns: composite_combined_mpg and unrounded_city_mpg_ft2, Correlation: 0.93\n",
      "Columns: composite_combined_mpg and city_electricity_consumption, Correlation: 0.95\n",
      "Columns: composite_combined_mpg and city_utility_factor, Correlation: 0.96\n",
      "Columns: composite_combined_mpg and highway_electricity_consumption, Correlation: 0.94\n",
      "Columns: composite_combined_mpg and highway_utility_factor, Correlation: 0.97\n",
      "Columns: composite_combined_mpg and unadjusted_city_mpg_ft2, Correlation: 0.94\n",
      "Columns: composite_combined_mpg and combined_mpg_ft2, Correlation: 0.92\n",
      "Columns: composite_combined_mpg and unrounded_combined_mpg_ft2, Correlation: 0.92\n",
      "Columns: composite_combined_mpg and combined_electricity_consumption, Correlation: 0.94\n",
      "Columns: composite_combined_mpg and combined_utility_factor, Correlation: 0.96\n",
      "Columns: composite_combined_mpg and hours_to_charge_240v, Correlation: 0.91\n",
      "Columns: composite_combined_mpg and composite_city_mpg, Correlation: 1.00\n",
      "Columns: composite_combined_mpg and composite_highway_mpg, Correlation: 1.00\n",
      "Columns: composite_combined_mpg and city_range_ft2, Correlation: 0.94\n",
      "Columns: composite_combined_mpg and highway_range_ft2, Correlation: 0.94\n",
      "Columns: city_range_ft2 and city_electricity_consumption, Correlation: 0.92\n",
      "Columns: city_range_ft2 and city_utility_factor, Correlation: 0.99\n",
      "Columns: city_range_ft2 and highway_electricity_consumption, Correlation: 0.92\n",
      "Columns: city_range_ft2 and highway_utility_factor, Correlation: 0.99\n",
      "Columns: city_range_ft2 and combined_electricity_consumption, Correlation: 0.92\n",
      "Columns: city_range_ft2 and combined_utility_factor, Correlation: 0.99\n",
      "Columns: city_range_ft2 and hours_to_charge_240v, Correlation: 0.98\n",
      "Columns: city_range_ft2 and composite_city_mpg, Correlation: 0.93\n",
      "Columns: city_range_ft2 and composite_highway_mpg, Correlation: 0.93\n",
      "Columns: city_range_ft2 and composite_combined_mpg, Correlation: 0.94\n",
      "Columns: city_range_ft2 and highway_range_ft2, Correlation: 1.00\n",
      "Columns: highway_range_ft2 and city_electricity_consumption, Correlation: 0.93\n",
      "Columns: highway_range_ft2 and city_utility_factor, Correlation: 0.99\n",
      "Columns: highway_range_ft2 and highway_electricity_consumption, Correlation: 0.93\n",
      "Columns: highway_range_ft2 and highway_utility_factor, Correlation: 0.99\n",
      "Columns: highway_range_ft2 and combined_electricity_consumption, Correlation: 0.93\n",
      "Columns: highway_range_ft2 and combined_utility_factor, Correlation: 0.99\n",
      "Columns: highway_range_ft2 and hours_to_charge_240v, Correlation: 0.98\n",
      "Columns: highway_range_ft2 and composite_city_mpg, Correlation: 0.94\n",
      "Columns: highway_range_ft2 and composite_highway_mpg, Correlation: 0.94\n",
      "Columns: highway_range_ft2 and composite_combined_mpg, Correlation: 0.94\n",
      "Columns: highway_range_ft2 and city_range_ft2, Correlation: 1.00\n"
     ]
    }
   ],
   "source": [
    "\n",
    "# Set the correlation threshold\n",
    "threshold = 0.90\n",
    "\n",
    "# Calculate the correlation matrix\n",
    "corr_matrix = df.corr()\n",
    "\n",
    "# Find column pairs with correlation higher than the threshold\n",
    "correlated_columns = []\n",
    "\n",
    "for col1 in corr_matrix.columns:\n",
    "    for col2 in corr_matrix.columns:\n",
    "        if col1 != col2 and abs(corr_matrix.loc[col1, col2]) > threshold:\n",
    "            correlated_columns.append((col1, col2, corr_matrix.loc[col1, col2]))\n",
    "\n",
    "# Output correlated column pairs\n",
    "print(\"Column pairs with correlation higher than 90%:\")\n",
    "for col1, col2, corr_value in correlated_columns:\n",
    "    print(f\"Columns: {col1} and {col2}, Correlation: {corr_value:.2f}\")"
   ]
  },
  {
   "cell_type": "markdown",
   "metadata": {
    "id": "dIjGR-g1WfGt"
   },
   "source": [
    "###Linear Regression"
   ]
  },
  {
   "cell_type": "code",
   "execution_count": 48,
   "metadata": {
    "id": "Mowms8xgUyBz"
   },
   "outputs": [],
   "source": [
    "x = df[[\"tailpipe_co2_in_grams_mile_ft2\"]]\n",
    "y = df[[\"annual_fuel_cost_ft2\"]]\n"
   ]
  },
  {
   "cell_type": "code",
   "execution_count": 50,
   "metadata": {
    "id": "qGWUqVxlUx-F"
   },
   "outputs": [],
   "source": [
    "from sklearn.model_selection import train_test_split\n",
    "x_train, x_test, y_train, y_test = train_test_split(x,y,test_size=0.2,random_state=2)\n"
   ]
  },
  {
   "cell_type": "code",
   "execution_count": 52,
   "metadata": {
    "colab": {
     "base_uri": "https://localhost:8080/",
     "height": 80
    },
    "id": "hXzEj4o5Ux8f",
    "outputId": "f6f9027e-77ec-4e32-8726-ed2f36b7fe79"
   },
   "outputs": [
    {
     "data": {
      "text/html": [
       "<style>#sk-container-id-1 {color: black;background-color: white;}#sk-container-id-1 pre{padding: 0;}#sk-container-id-1 div.sk-toggleable {background-color: white;}#sk-container-id-1 label.sk-toggleable__label {cursor: pointer;display: block;width: 100%;margin-bottom: 0;padding: 0.3em;box-sizing: border-box;text-align: center;}#sk-container-id-1 label.sk-toggleable__label-arrow:before {content: \"▸\";float: left;margin-right: 0.25em;color: #696969;}#sk-container-id-1 label.sk-toggleable__label-arrow:hover:before {color: black;}#sk-container-id-1 div.sk-estimator:hover label.sk-toggleable__label-arrow:before {color: black;}#sk-container-id-1 div.sk-toggleable__content {max-height: 0;max-width: 0;overflow: hidden;text-align: left;background-color: #f0f8ff;}#sk-container-id-1 div.sk-toggleable__content pre {margin: 0.2em;color: black;border-radius: 0.25em;background-color: #f0f8ff;}#sk-container-id-1 input.sk-toggleable__control:checked~div.sk-toggleable__content {max-height: 200px;max-width: 100%;overflow: auto;}#sk-container-id-1 input.sk-toggleable__control:checked~label.sk-toggleable__label-arrow:before {content: \"▾\";}#sk-container-id-1 div.sk-estimator input.sk-toggleable__control:checked~label.sk-toggleable__label {background-color: #d4ebff;}#sk-container-id-1 div.sk-label input.sk-toggleable__control:checked~label.sk-toggleable__label {background-color: #d4ebff;}#sk-container-id-1 input.sk-hidden--visually {border: 0;clip: rect(1px 1px 1px 1px);clip: rect(1px, 1px, 1px, 1px);height: 1px;margin: -1px;overflow: hidden;padding: 0;position: absolute;width: 1px;}#sk-container-id-1 div.sk-estimator {font-family: monospace;background-color: #f0f8ff;border: 1px dotted black;border-radius: 0.25em;box-sizing: border-box;margin-bottom: 0.5em;}#sk-container-id-1 div.sk-estimator:hover {background-color: #d4ebff;}#sk-container-id-1 div.sk-parallel-item::after {content: \"\";width: 100%;border-bottom: 1px solid gray;flex-grow: 1;}#sk-container-id-1 div.sk-label:hover label.sk-toggleable__label {background-color: #d4ebff;}#sk-container-id-1 div.sk-serial::before {content: \"\";position: absolute;border-left: 1px solid gray;box-sizing: border-box;top: 0;bottom: 0;left: 50%;z-index: 0;}#sk-container-id-1 div.sk-serial {display: flex;flex-direction: column;align-items: center;background-color: white;padding-right: 0.2em;padding-left: 0.2em;position: relative;}#sk-container-id-1 div.sk-item {position: relative;z-index: 1;}#sk-container-id-1 div.sk-parallel {display: flex;align-items: stretch;justify-content: center;background-color: white;position: relative;}#sk-container-id-1 div.sk-item::before, #sk-container-id-1 div.sk-parallel-item::before {content: \"\";position: absolute;border-left: 1px solid gray;box-sizing: border-box;top: 0;bottom: 0;left: 50%;z-index: -1;}#sk-container-id-1 div.sk-parallel-item {display: flex;flex-direction: column;z-index: 1;position: relative;background-color: white;}#sk-container-id-1 div.sk-parallel-item:first-child::after {align-self: flex-end;width: 50%;}#sk-container-id-1 div.sk-parallel-item:last-child::after {align-self: flex-start;width: 50%;}#sk-container-id-1 div.sk-parallel-item:only-child::after {width: 0;}#sk-container-id-1 div.sk-dashed-wrapped {border: 1px dashed gray;margin: 0 0.4em 0.5em 0.4em;box-sizing: border-box;padding-bottom: 0.4em;background-color: white;}#sk-container-id-1 div.sk-label label {font-family: monospace;font-weight: bold;display: inline-block;line-height: 1.2em;}#sk-container-id-1 div.sk-label-container {text-align: center;}#sk-container-id-1 div.sk-container {/* jupyter's `normalize.less` sets `[hidden] { display: none; }` but bootstrap.min.css set `[hidden] { display: none !important; }` so we also need the `!important` here to be able to override the default hidden behavior on the sphinx rendered scikit-learn.org. See: https://github.com/scikit-learn/scikit-learn/issues/21755 */display: inline-block !important;position: relative;}#sk-container-id-1 div.sk-text-repr-fallback {display: none;}</style><div id=\"sk-container-id-1\" class=\"sk-top-container\"><div class=\"sk-text-repr-fallback\"><pre>LinearRegression()</pre><b>In a Jupyter environment, please rerun this cell to show the HTML representation or trust the notebook. <br />On GitHub, the HTML representation is unable to render, please try loading this page with nbviewer.org.</b></div><div class=\"sk-container\" hidden><div class=\"sk-item\"><div class=\"sk-estimator sk-toggleable\"><input class=\"sk-toggleable__control sk-hidden--visually\" id=\"sk-estimator-id-1\" type=\"checkbox\" checked><label for=\"sk-estimator-id-1\" class=\"sk-toggleable__label sk-toggleable__label-arrow\">LinearRegression</label><div class=\"sk-toggleable__content\"><pre>LinearRegression()</pre></div></div></div></div></div>"
      ],
      "text/plain": [
       "LinearRegression()"
      ]
     },
     "execution_count": 52,
     "metadata": {},
     "output_type": "execute_result"
    }
   ],
   "source": [
    "from sklearn.linear_model import LinearRegression\n",
    "\n",
    "slr = LinearRegression()\n",
    "slr.fit(x_train, y_train)"
   ]
  },
  {
   "cell_type": "code",
   "execution_count": 54,
   "metadata": {
    "colab": {
     "base_uri": "https://localhost:8080/"
    },
    "id": "2vJqWbHqVsXZ",
    "outputId": "84446ef9-b99e-4440-be27-0238396c15bf"
   },
   "outputs": [
    {
     "data": {
      "text/plain": [
       "array([[4.61687344]])"
      ]
     },
     "execution_count": 54,
     "metadata": {},
     "output_type": "execute_result"
    }
   ],
   "source": [
    "slr.coef_ # y = mx + c"
   ]
  },
  {
   "cell_type": "code",
   "execution_count": 56,
   "metadata": {
    "colab": {
     "base_uri": "https://localhost:8080/"
    },
    "id": "vHeRL4NRVxbO",
    "outputId": "b4cb3f09-b093-42d8-fea4-21b6d073fc9a"
   },
   "outputs": [
    {
     "data": {
      "text/plain": [
       "array([0.35805607])"
      ]
     },
     "execution_count": 56,
     "metadata": {},
     "output_type": "execute_result"
    }
   ],
   "source": [
    "slr.intercept_"
   ]
  },
  {
   "cell_type": "code",
   "execution_count": 58,
   "metadata": {
    "id": "czgFqWIjVy15"
   },
   "outputs": [],
   "source": [
    "ypred = slr.predict(x_test)"
   ]
  },
  {
   "cell_type": "code",
   "execution_count": 60,
   "metadata": {
    "colab": {
     "base_uri": "https://localhost:8080/"
    },
    "id": "_khvxckcV0c2",
    "outputId": "bd2bda8d-f786-4c27-9b31-3519c631f518"
   },
   "outputs": [
    {
     "data": {
      "text/plain": [
       "0.9997392525657268"
      ]
     },
     "execution_count": 60,
     "metadata": {},
     "output_type": "execute_result"
    }
   ],
   "source": [
    "from sklearn.metrics import mean_absolute_error, r2_score\n",
    "\n",
    "r2_score(y_test, ypred)"
   ]
  },
  {
   "cell_type": "markdown",
   "metadata": {
    "id": "1XvIIqs1XQ9X"
   },
   "source": [
    "### Second prediction on new problem"
   ]
  },
  {
   "cell_type": "markdown",
   "metadata": {
    "id": "aY_9_CPTXS2i"
   },
   "source": [
    "### Multiple Linear regression"
   ]
  },
  {
   "cell_type": "code",
   "execution_count": 64,
   "metadata": {
    "id": "dOmCY68jV81B"
   },
   "outputs": [],
   "source": [
    "\n",
    "x = df[[\"city_mpg_ft1\", \"highway_mpg_ft1\", \"unadjusted_city_mpg_ft1\", \"unadjusted_highway_mpg_ft1\"]]\n",
    "y = df[[\"combined_mpg_ft1\"]]\n"
   ]
  },
  {
   "cell_type": "code",
   "execution_count": 66,
   "metadata": {
    "colab": {
     "base_uri": "https://localhost:8080/"
    },
    "id": "3dUG495tXJ3X",
    "outputId": "df892b38-b757-4c9f-f8f2-4ff497a238aa"
   },
   "outputs": [
    {
     "name": "stdout",
     "output_type": "stream",
     "text": [
      "[[ 0.35591639  0.33322198  0.23994662 -0.00051901]]\n",
      "[0.40953614]\n"
     ]
    }
   ],
   "source": [
    "# split the data into training and testing sets\n",
    "x_train, x_test, y_train, y_test = train_test_split(x, y, test_size=0.3, random_state=2)\n",
    "\n",
    "# create a linear regression model and fit it to the training data\n",
    "mlr = LinearRegression()\n",
    "mlr.fit(x_train, y_train)\n",
    "\n",
    "# print the coefficients and intercept\n",
    "print(mlr.coef_)\n",
    "print(mlr.intercept_)"
   ]
  },
  {
   "cell_type": "code",
   "execution_count": 68,
   "metadata": {
    "colab": {
     "base_uri": "https://localhost:8080/"
    },
    "id": "57wthynbXNmZ",
    "outputId": "483dc8e9-e809-446e-ce87-e1213a622210"
   },
   "outputs": [
    {
     "name": "stdout",
     "output_type": "stream",
     "text": [
      "R^2 score: 0.9948096141568892\n"
     ]
    }
   ],
   "source": [
    "# make predictions on the testing data and calculate the R^2 score\n",
    "ypred = mlr.predict(x_test)\n",
    "r2 = r2_score(y_test, ypred)\n",
    "print(\"R^2 score:\", r2)\n",
    "\n"
   ]
  },
  {
   "cell_type": "code",
   "execution_count": 70,
   "metadata": {
    "colab": {
     "base_uri": "https://localhost:8080/",
     "height": 255
    },
    "id": "7Z6PblgEYbnp",
    "outputId": "33130fb8-1ea8-42c0-a06f-833adaa9f368"
   },
   "outputs": [
    {
     "data": {
      "text/html": [
       "<div>\n",
       "<style scoped>\n",
       "    .dataframe tbody tr th:only-of-type {\n",
       "        vertical-align: middle;\n",
       "    }\n",
       "\n",
       "    .dataframe tbody tr th {\n",
       "        vertical-align: top;\n",
       "    }\n",
       "\n",
       "    .dataframe thead th {\n",
       "        text-align: right;\n",
       "    }\n",
       "</style>\n",
       "<table border=\"1\" class=\"dataframe\">\n",
       "  <thead>\n",
       "    <tr style=\"text-align: right;\">\n",
       "      <th></th>\n",
       "      <th>vehicle_id</th>\n",
       "      <th>year</th>\n",
       "      <th>make</th>\n",
       "      <th>model</th>\n",
       "      <th>class</th>\n",
       "      <th>drive</th>\n",
       "      <th>transmission</th>\n",
       "      <th>engine_index</th>\n",
       "      <th>engine_cylinders</th>\n",
       "      <th>engine_displacement</th>\n",
       "      <th>...</th>\n",
       "      <th>hours_to_charge_240v</th>\n",
       "      <th>hours_to_charge_ac_240v</th>\n",
       "      <th>composite_city_mpg</th>\n",
       "      <th>composite_highway_mpg</th>\n",
       "      <th>composite_combined_mpg</th>\n",
       "      <th>range_ft1</th>\n",
       "      <th>city_range_ft1</th>\n",
       "      <th>highway_range_ft1</th>\n",
       "      <th>city_range_ft2</th>\n",
       "      <th>highway_range_ft2</th>\n",
       "    </tr>\n",
       "  </thead>\n",
       "  <tbody>\n",
       "    <tr>\n",
       "      <th>1750</th>\n",
       "      <td>27657</td>\n",
       "      <td>1984</td>\n",
       "      <td>57</td>\n",
       "      <td>330</td>\n",
       "      <td>14</td>\n",
       "      <td>1</td>\n",
       "      <td>19</td>\n",
       "      <td>66091</td>\n",
       "      <td>4.0</td>\n",
       "      <td>1.8</td>\n",
       "      <td>...</td>\n",
       "      <td>0.0</td>\n",
       "      <td>0.0</td>\n",
       "      <td>0</td>\n",
       "      <td>0</td>\n",
       "      <td>0</td>\n",
       "      <td>0</td>\n",
       "      <td>0.0</td>\n",
       "      <td>0.0</td>\n",
       "      <td>0.0</td>\n",
       "      <td>0.0</td>\n",
       "    </tr>\n",
       "    <tr>\n",
       "      <th>1752</th>\n",
       "      <td>28505</td>\n",
       "      <td>1984</td>\n",
       "      <td>57</td>\n",
       "      <td>330</td>\n",
       "      <td>14</td>\n",
       "      <td>1</td>\n",
       "      <td>19</td>\n",
       "      <td>66096</td>\n",
       "      <td>4.0</td>\n",
       "      <td>1.8</td>\n",
       "      <td>...</td>\n",
       "      <td>0.0</td>\n",
       "      <td>0.0</td>\n",
       "      <td>0</td>\n",
       "      <td>0</td>\n",
       "      <td>0</td>\n",
       "      <td>0</td>\n",
       "      <td>0.0</td>\n",
       "      <td>0.0</td>\n",
       "      <td>0.0</td>\n",
       "      <td>0.0</td>\n",
       "    </tr>\n",
       "    <tr>\n",
       "      <th>1766</th>\n",
       "      <td>27663</td>\n",
       "      <td>1984</td>\n",
       "      <td>57</td>\n",
       "      <td>879</td>\n",
       "      <td>14</td>\n",
       "      <td>1</td>\n",
       "      <td>19</td>\n",
       "      <td>66091</td>\n",
       "      <td>4.0</td>\n",
       "      <td>1.8</td>\n",
       "      <td>...</td>\n",
       "      <td>0.0</td>\n",
       "      <td>0.0</td>\n",
       "      <td>0</td>\n",
       "      <td>0</td>\n",
       "      <td>0</td>\n",
       "      <td>0</td>\n",
       "      <td>0.0</td>\n",
       "      <td>0.0</td>\n",
       "      <td>0.0</td>\n",
       "      <td>0.0</td>\n",
       "    </tr>\n",
       "    <tr>\n",
       "      <th>1768</th>\n",
       "      <td>28511</td>\n",
       "      <td>1984</td>\n",
       "      <td>57</td>\n",
       "      <td>879</td>\n",
       "      <td>14</td>\n",
       "      <td>1</td>\n",
       "      <td>19</td>\n",
       "      <td>66096</td>\n",
       "      <td>4.0</td>\n",
       "      <td>1.8</td>\n",
       "      <td>...</td>\n",
       "      <td>0.0</td>\n",
       "      <td>0.0</td>\n",
       "      <td>0</td>\n",
       "      <td>0</td>\n",
       "      <td>0</td>\n",
       "      <td>0</td>\n",
       "      <td>0.0</td>\n",
       "      <td>0.0</td>\n",
       "      <td>0.0</td>\n",
       "      <td>0.0</td>\n",
       "    </tr>\n",
       "    <tr>\n",
       "      <th>1778</th>\n",
       "      <td>27660</td>\n",
       "      <td>1984</td>\n",
       "      <td>57</td>\n",
       "      <td>993</td>\n",
       "      <td>14</td>\n",
       "      <td>1</td>\n",
       "      <td>19</td>\n",
       "      <td>66091</td>\n",
       "      <td>4.0</td>\n",
       "      <td>1.8</td>\n",
       "      <td>...</td>\n",
       "      <td>0.0</td>\n",
       "      <td>0.0</td>\n",
       "      <td>0</td>\n",
       "      <td>0</td>\n",
       "      <td>0</td>\n",
       "      <td>0</td>\n",
       "      <td>0.0</td>\n",
       "      <td>0.0</td>\n",
       "      <td>0.0</td>\n",
       "      <td>0.0</td>\n",
       "    </tr>\n",
       "  </tbody>\n",
       "</table>\n",
       "<p>5 rows × 68 columns</p>\n",
       "</div>"
      ],
      "text/plain": [
       "      vehicle_id  year  make  model  class  drive  transmission  engine_index  \\\n",
       "1750       27657  1984    57    330     14      1            19         66091   \n",
       "1752       28505  1984    57    330     14      1            19         66096   \n",
       "1766       27663  1984    57    879     14      1            19         66091   \n",
       "1768       28511  1984    57    879     14      1            19         66096   \n",
       "1778       27660  1984    57    993     14      1            19         66091   \n",
       "\n",
       "      engine_cylinders  engine_displacement  ...  hours_to_charge_240v  \\\n",
       "1750               4.0                  1.8  ...                   0.0   \n",
       "1752               4.0                  1.8  ...                   0.0   \n",
       "1766               4.0                  1.8  ...                   0.0   \n",
       "1768               4.0                  1.8  ...                   0.0   \n",
       "1778               4.0                  1.8  ...                   0.0   \n",
       "\n",
       "      hours_to_charge_ac_240v  composite_city_mpg  composite_highway_mpg  \\\n",
       "1750                      0.0                   0                      0   \n",
       "1752                      0.0                   0                      0   \n",
       "1766                      0.0                   0                      0   \n",
       "1768                      0.0                   0                      0   \n",
       "1778                      0.0                   0                      0   \n",
       "\n",
       "      composite_combined_mpg  range_ft1  city_range_ft1  highway_range_ft1  \\\n",
       "1750                       0          0             0.0                0.0   \n",
       "1752                       0          0             0.0                0.0   \n",
       "1766                       0          0             0.0                0.0   \n",
       "1768                       0          0             0.0                0.0   \n",
       "1778                       0          0             0.0                0.0   \n",
       "\n",
       "      city_range_ft2  highway_range_ft2  \n",
       "1750             0.0                0.0  \n",
       "1752             0.0                0.0  \n",
       "1766             0.0                0.0  \n",
       "1768             0.0                0.0  \n",
       "1778             0.0                0.0  \n",
       "\n",
       "[5 rows x 68 columns]"
      ]
     },
     "execution_count": 70,
     "metadata": {},
     "output_type": "execute_result"
    }
   ],
   "source": [
    "df.head()"
   ]
  },
  {
   "cell_type": "code",
   "execution_count": 72,
   "metadata": {
    "colab": {
     "base_uri": "https://localhost:8080/"
    },
    "id": "eMP2WpCaYnZi",
    "outputId": "309a1ddd-6e4a-4e64-80bb-9331967635f4"
   },
   "outputs": [
    {
     "name": "stdout",
     "output_type": "stream",
     "text": [
      "19.017204301075267\n",
      "26.33998044965787\n",
      "24.020687937438908\n",
      "37.12435460410558\n"
     ]
    }
   ],
   "source": [
    "print(df[\"city_mpg_ft1\"].mean())\n",
    "print(df[\"highway_mpg_ft1\"].mean())\n",
    "print(df[\"unadjusted_city_mpg_ft1\"].mean())\n",
    "print(df[\"unadjusted_highway_mpg_ft1\"].mean())"
   ]
  },
  {
   "cell_type": "code",
   "execution_count": 74,
   "metadata": {
    "colab": {
     "base_uri": "https://localhost:8080/"
    },
    "id": "AGZ_aru3YQvM",
    "outputId": "8f8cd0e0-bbd9-4d27-a85c-18f2ae3adfb9"
   },
   "outputs": [
    {
     "name": "stdout",
     "output_type": "stream",
     "text": [
      "Prediction: [[21.57523475]]\n"
     ]
    }
   ],
   "source": [
    "# make a prediction on new data\n",
    "xnew = np.array([[19,26,24,37]])  # reshape not needed here\n",
    "prediction = mlr.predict(xnew)\n",
    "print(\"Prediction:\", prediction)"
   ]
  },
  {
   "cell_type": "markdown",
   "metadata": {
    "id": "yGaDUMTVXxX2"
   },
   "source": [
    "#Problem 3"
   ]
  },
  {
   "cell_type": "code",
   "execution_count": 77,
   "metadata": {
    "id": "cTIYgSXDZNeY"
   },
   "outputs": [],
   "source": [
    "x = df[[\"tailpipe_co2_in_grams_mile_ft2\"]]\n",
    "y = df[[\"annual_fuel_cost_ft2\"]]\n",
    "#city_mpg_ft2 and combined_mpg_ft2"
   ]
  },
  {
   "cell_type": "code",
   "execution_count": 79,
   "metadata": {
    "id": "klnQN-44Z8-r"
   },
   "outputs": [],
   "source": [
    "\n",
    "from sklearn.model_selection import train_test_split\n",
    "xtrain, xtest, ytrain, ytest = train_test_split(x,y,test_size=0.2, random_state=1)"
   ]
  },
  {
   "cell_type": "code",
   "execution_count": 81,
   "metadata": {
    "colab": {
     "base_uri": "https://localhost:8080/",
     "height": 80
    },
    "id": "7pmchISAaCdh",
    "outputId": "e5d398e0-9e97-4d7c-ded7-b46307a44e31"
   },
   "outputs": [
    {
     "data": {
      "text/html": [
       "<style>#sk-container-id-2 {color: black;background-color: white;}#sk-container-id-2 pre{padding: 0;}#sk-container-id-2 div.sk-toggleable {background-color: white;}#sk-container-id-2 label.sk-toggleable__label {cursor: pointer;display: block;width: 100%;margin-bottom: 0;padding: 0.3em;box-sizing: border-box;text-align: center;}#sk-container-id-2 label.sk-toggleable__label-arrow:before {content: \"▸\";float: left;margin-right: 0.25em;color: #696969;}#sk-container-id-2 label.sk-toggleable__label-arrow:hover:before {color: black;}#sk-container-id-2 div.sk-estimator:hover label.sk-toggleable__label-arrow:before {color: black;}#sk-container-id-2 div.sk-toggleable__content {max-height: 0;max-width: 0;overflow: hidden;text-align: left;background-color: #f0f8ff;}#sk-container-id-2 div.sk-toggleable__content pre {margin: 0.2em;color: black;border-radius: 0.25em;background-color: #f0f8ff;}#sk-container-id-2 input.sk-toggleable__control:checked~div.sk-toggleable__content {max-height: 200px;max-width: 100%;overflow: auto;}#sk-container-id-2 input.sk-toggleable__control:checked~label.sk-toggleable__label-arrow:before {content: \"▾\";}#sk-container-id-2 div.sk-estimator input.sk-toggleable__control:checked~label.sk-toggleable__label {background-color: #d4ebff;}#sk-container-id-2 div.sk-label input.sk-toggleable__control:checked~label.sk-toggleable__label {background-color: #d4ebff;}#sk-container-id-2 input.sk-hidden--visually {border: 0;clip: rect(1px 1px 1px 1px);clip: rect(1px, 1px, 1px, 1px);height: 1px;margin: -1px;overflow: hidden;padding: 0;position: absolute;width: 1px;}#sk-container-id-2 div.sk-estimator {font-family: monospace;background-color: #f0f8ff;border: 1px dotted black;border-radius: 0.25em;box-sizing: border-box;margin-bottom: 0.5em;}#sk-container-id-2 div.sk-estimator:hover {background-color: #d4ebff;}#sk-container-id-2 div.sk-parallel-item::after {content: \"\";width: 100%;border-bottom: 1px solid gray;flex-grow: 1;}#sk-container-id-2 div.sk-label:hover label.sk-toggleable__label {background-color: #d4ebff;}#sk-container-id-2 div.sk-serial::before {content: \"\";position: absolute;border-left: 1px solid gray;box-sizing: border-box;top: 0;bottom: 0;left: 50%;z-index: 0;}#sk-container-id-2 div.sk-serial {display: flex;flex-direction: column;align-items: center;background-color: white;padding-right: 0.2em;padding-left: 0.2em;position: relative;}#sk-container-id-2 div.sk-item {position: relative;z-index: 1;}#sk-container-id-2 div.sk-parallel {display: flex;align-items: stretch;justify-content: center;background-color: white;position: relative;}#sk-container-id-2 div.sk-item::before, #sk-container-id-2 div.sk-parallel-item::before {content: \"\";position: absolute;border-left: 1px solid gray;box-sizing: border-box;top: 0;bottom: 0;left: 50%;z-index: -1;}#sk-container-id-2 div.sk-parallel-item {display: flex;flex-direction: column;z-index: 1;position: relative;background-color: white;}#sk-container-id-2 div.sk-parallel-item:first-child::after {align-self: flex-end;width: 50%;}#sk-container-id-2 div.sk-parallel-item:last-child::after {align-self: flex-start;width: 50%;}#sk-container-id-2 div.sk-parallel-item:only-child::after {width: 0;}#sk-container-id-2 div.sk-dashed-wrapped {border: 1px dashed gray;margin: 0 0.4em 0.5em 0.4em;box-sizing: border-box;padding-bottom: 0.4em;background-color: white;}#sk-container-id-2 div.sk-label label {font-family: monospace;font-weight: bold;display: inline-block;line-height: 1.2em;}#sk-container-id-2 div.sk-label-container {text-align: center;}#sk-container-id-2 div.sk-container {/* jupyter's `normalize.less` sets `[hidden] { display: none; }` but bootstrap.min.css set `[hidden] { display: none !important; }` so we also need the `!important` here to be able to override the default hidden behavior on the sphinx rendered scikit-learn.org. See: https://github.com/scikit-learn/scikit-learn/issues/21755 */display: inline-block !important;position: relative;}#sk-container-id-2 div.sk-text-repr-fallback {display: none;}</style><div id=\"sk-container-id-2\" class=\"sk-top-container\"><div class=\"sk-text-repr-fallback\"><pre>KNeighborsClassifier(metric=&#x27;euclidean&#x27;, n_neighbors=3)</pre><b>In a Jupyter environment, please rerun this cell to show the HTML representation or trust the notebook. <br />On GitHub, the HTML representation is unable to render, please try loading this page with nbviewer.org.</b></div><div class=\"sk-container\" hidden><div class=\"sk-item\"><div class=\"sk-estimator sk-toggleable\"><input class=\"sk-toggleable__control sk-hidden--visually\" id=\"sk-estimator-id-2\" type=\"checkbox\" checked><label for=\"sk-estimator-id-2\" class=\"sk-toggleable__label sk-toggleable__label-arrow\">KNeighborsClassifier</label><div class=\"sk-toggleable__content\"><pre>KNeighborsClassifier(metric=&#x27;euclidean&#x27;, n_neighbors=3)</pre></div></div></div></div></div>"
      ],
      "text/plain": [
       "KNeighborsClassifier(metric='euclidean', n_neighbors=3)"
      ]
     },
     "execution_count": 81,
     "metadata": {},
     "output_type": "execute_result"
    }
   ],
   "source": [
    "from sklearn.neighbors import KNeighborsClassifier\n",
    "knn = KNeighborsClassifier (n_neighbors=3, metric='euclidean')\n",
    "knn.fit(xtrain, ytrain)"
   ]
  },
  {
   "cell_type": "code",
   "execution_count": 83,
   "metadata": {
    "colab": {
     "base_uri": "https://localhost:8080/"
    },
    "id": "3mup_-bIcQO7",
    "outputId": "ca5542df-b973-4abe-ca1b-1e23635417b8"
   },
   "outputs": [
    {
     "name": "stdout",
     "output_type": "stream",
     "text": [
      "tailpipe_co2_in_grams_mile_ft2\n",
      "0.000000                          5046\n",
      "620.200000                           7\n",
      "387.625000                           7\n",
      "379.000000                           6\n",
      "589.000000                           6\n",
      "394.000000                           5\n",
      "344.555556                           5\n",
      "349.000000                           5\n",
      "648.000000                           4\n",
      "576.000000                           3\n",
      "364.823529                           3\n",
      "358.000000                           3\n",
      "361.000000                           2\n",
      "406.000000                           2\n",
      "415.000000                           2\n",
      "689.111111                           2\n",
      "318.000000                           1\n",
      "367.000000                           1\n",
      "333.000000                           1\n",
      "330.000000                           1\n",
      "328.000000                           1\n",
      "325.000000                           1\n",
      "322.000000                           1\n",
      "Name: count, dtype: int64\n"
     ]
    }
   ],
   "source": [
    "print(x.value_counts())"
   ]
  },
  {
   "cell_type": "code",
   "execution_count": 85,
   "metadata": {
    "colab": {
     "base_uri": "https://localhost:8080/"
    },
    "id": "WsHEKKmnaVIb",
    "outputId": "0cf63bd5-19d2-4ac8-cb8f-8bbaf30daaa0"
   },
   "outputs": [
    {
     "name": "stdout",
     "output_type": "stream",
     "text": [
      "[0 0 0 ... 0 0 0]\n"
     ]
    }
   ],
   "source": [
    "ypred = knn.predict(xtest)\n",
    "print(ypred)"
   ]
  },
  {
   "cell_type": "code",
   "execution_count": 87,
   "metadata": {
    "colab": {
     "base_uri": "https://localhost:8080/"
    },
    "id": "StWo7GuVbxE3",
    "outputId": "7069ada9-c372-4722-9682-857f30afeae3"
   },
   "outputs": [
    {
     "name": "stdout",
     "output_type": "stream",
     "text": [
      "0.9990224828934506\n"
     ]
    }
   ],
   "source": [
    "from sklearn.metrics import classification_report, accuracy_score\n",
    "print(accuracy_score(ytest, ypred))"
   ]
  },
  {
   "cell_type": "code",
   "execution_count": 89,
   "metadata": {
    "colab": {
     "base_uri": "https://localhost:8080/"
    },
    "id": "R7Wwn-S-b18h",
    "outputId": "2faa9a49-2452-48e3-afb0-34ccc0d5b613"
   },
   "outputs": [
    {
     "name": "stdout",
     "output_type": "stream",
     "text": [
      "Prediction: [2900]\n"
     ]
    }
   ],
   "source": [
    "# make a prediction on new data\n",
    "xnew = np.array([[650]])  # reshape not needed here\n",
    "prediction = knn.predict(xnew)\n",
    "print(\"Prediction:\", prediction)"
   ]
  },
  {
   "cell_type": "markdown",
   "metadata": {
    "id": "3bzCQsJdZLA3"
   },
   "source": [
    "### Problem 4 using SVM"
   ]
  },
  {
   "cell_type": "code",
   "execution_count": 92,
   "metadata": {
    "id": "SqOoF01JcHhR"
   },
   "outputs": [],
   "source": [
    "\n",
    "x = df[[\"tailpipe_co2_in_grams_mile_ft2\"]]\n",
    "y = df[[\"annual_fuel_cost_ft2\"]]\n",
    "from sklearn.model_selection import train_test_split\n",
    "x_train, x_test, y_train, y_test = train_test_split(x,y,test_size=0.2,random_state=2)"
   ]
  },
  {
   "cell_type": "code",
   "execution_count": 94,
   "metadata": {
    "colab": {
     "base_uri": "https://localhost:8080/",
     "height": 80
    },
    "id": "RXsGu4xIcuyH",
    "outputId": "c2086585-bc72-4e66-b1f8-5000e4949cbb"
   },
   "outputs": [
    {
     "data": {
      "text/html": [
       "<style>#sk-container-id-3 {color: black;background-color: white;}#sk-container-id-3 pre{padding: 0;}#sk-container-id-3 div.sk-toggleable {background-color: white;}#sk-container-id-3 label.sk-toggleable__label {cursor: pointer;display: block;width: 100%;margin-bottom: 0;padding: 0.3em;box-sizing: border-box;text-align: center;}#sk-container-id-3 label.sk-toggleable__label-arrow:before {content: \"▸\";float: left;margin-right: 0.25em;color: #696969;}#sk-container-id-3 label.sk-toggleable__label-arrow:hover:before {color: black;}#sk-container-id-3 div.sk-estimator:hover label.sk-toggleable__label-arrow:before {color: black;}#sk-container-id-3 div.sk-toggleable__content {max-height: 0;max-width: 0;overflow: hidden;text-align: left;background-color: #f0f8ff;}#sk-container-id-3 div.sk-toggleable__content pre {margin: 0.2em;color: black;border-radius: 0.25em;background-color: #f0f8ff;}#sk-container-id-3 input.sk-toggleable__control:checked~div.sk-toggleable__content {max-height: 200px;max-width: 100%;overflow: auto;}#sk-container-id-3 input.sk-toggleable__control:checked~label.sk-toggleable__label-arrow:before {content: \"▾\";}#sk-container-id-3 div.sk-estimator input.sk-toggleable__control:checked~label.sk-toggleable__label {background-color: #d4ebff;}#sk-container-id-3 div.sk-label input.sk-toggleable__control:checked~label.sk-toggleable__label {background-color: #d4ebff;}#sk-container-id-3 input.sk-hidden--visually {border: 0;clip: rect(1px 1px 1px 1px);clip: rect(1px, 1px, 1px, 1px);height: 1px;margin: -1px;overflow: hidden;padding: 0;position: absolute;width: 1px;}#sk-container-id-3 div.sk-estimator {font-family: monospace;background-color: #f0f8ff;border: 1px dotted black;border-radius: 0.25em;box-sizing: border-box;margin-bottom: 0.5em;}#sk-container-id-3 div.sk-estimator:hover {background-color: #d4ebff;}#sk-container-id-3 div.sk-parallel-item::after {content: \"\";width: 100%;border-bottom: 1px solid gray;flex-grow: 1;}#sk-container-id-3 div.sk-label:hover label.sk-toggleable__label {background-color: #d4ebff;}#sk-container-id-3 div.sk-serial::before {content: \"\";position: absolute;border-left: 1px solid gray;box-sizing: border-box;top: 0;bottom: 0;left: 50%;z-index: 0;}#sk-container-id-3 div.sk-serial {display: flex;flex-direction: column;align-items: center;background-color: white;padding-right: 0.2em;padding-left: 0.2em;position: relative;}#sk-container-id-3 div.sk-item {position: relative;z-index: 1;}#sk-container-id-3 div.sk-parallel {display: flex;align-items: stretch;justify-content: center;background-color: white;position: relative;}#sk-container-id-3 div.sk-item::before, #sk-container-id-3 div.sk-parallel-item::before {content: \"\";position: absolute;border-left: 1px solid gray;box-sizing: border-box;top: 0;bottom: 0;left: 50%;z-index: -1;}#sk-container-id-3 div.sk-parallel-item {display: flex;flex-direction: column;z-index: 1;position: relative;background-color: white;}#sk-container-id-3 div.sk-parallel-item:first-child::after {align-self: flex-end;width: 50%;}#sk-container-id-3 div.sk-parallel-item:last-child::after {align-self: flex-start;width: 50%;}#sk-container-id-3 div.sk-parallel-item:only-child::after {width: 0;}#sk-container-id-3 div.sk-dashed-wrapped {border: 1px dashed gray;margin: 0 0.4em 0.5em 0.4em;box-sizing: border-box;padding-bottom: 0.4em;background-color: white;}#sk-container-id-3 div.sk-label label {font-family: monospace;font-weight: bold;display: inline-block;line-height: 1.2em;}#sk-container-id-3 div.sk-label-container {text-align: center;}#sk-container-id-3 div.sk-container {/* jupyter's `normalize.less` sets `[hidden] { display: none; }` but bootstrap.min.css set `[hidden] { display: none !important; }` so we also need the `!important` here to be able to override the default hidden behavior on the sphinx rendered scikit-learn.org. See: https://github.com/scikit-learn/scikit-learn/issues/21755 */display: inline-block !important;position: relative;}#sk-container-id-3 div.sk-text-repr-fallback {display: none;}</style><div id=\"sk-container-id-3\" class=\"sk-top-container\"><div class=\"sk-text-repr-fallback\"><pre>LinearSVC()</pre><b>In a Jupyter environment, please rerun this cell to show the HTML representation or trust the notebook. <br />On GitHub, the HTML representation is unable to render, please try loading this page with nbviewer.org.</b></div><div class=\"sk-container\" hidden><div class=\"sk-item\"><div class=\"sk-estimator sk-toggleable\"><input class=\"sk-toggleable__control sk-hidden--visually\" id=\"sk-estimator-id-3\" type=\"checkbox\" checked><label for=\"sk-estimator-id-3\" class=\"sk-toggleable__label sk-toggleable__label-arrow\">LinearSVC</label><div class=\"sk-toggleable__content\"><pre>LinearSVC()</pre></div></div></div></div></div>"
      ],
      "text/plain": [
       "LinearSVC()"
      ]
     },
     "execution_count": 94,
     "metadata": {},
     "output_type": "execute_result"
    }
   ],
   "source": [
    "from sklearn.svm import LinearSVC\n",
    "\n",
    "classifier = LinearSVC ()\n",
    "classifier.fit(x_train,y_train)"
   ]
  },
  {
   "cell_type": "code",
   "execution_count": 96,
   "metadata": {
    "colab": {
     "base_uri": "https://localhost:8080/"
    },
    "id": "wroD9HgQc8be",
    "outputId": "d6b2261d-3c0a-4841-fd36-605863339a61"
   },
   "outputs": [
    {
     "name": "stdout",
     "output_type": "stream",
     "text": [
      "Test Accuracy= 0.9882697947214076\n"
     ]
    }
   ],
   "source": [
    "from sklearn.metrics import accuracy_score\n",
    "y_pred = classifier.predict(x_test)\n",
    "print(\"Test Accuracy=\", accuracy_score(y_test, y_pred))"
   ]
  },
  {
   "cell_type": "code",
   "execution_count": 98,
   "metadata": {
    "colab": {
     "base_uri": "https://localhost:8080/"
    },
    "id": "dt09KvIyc_IK",
    "outputId": "beea79cb-bcde-4a9c-eca9-85e093c13bb1"
   },
   "outputs": [
    {
     "name": "stdout",
     "output_type": "stream",
     "text": [
      "Prediction: [2650]\n"
     ]
    }
   ],
   "source": [
    "# make a prediction on new data\n",
    "xnew = np.array([[500]])  # reshape not needed here\n",
    "prediction = knn.predict(xnew)\n",
    "print(\"Prediction:\", prediction)"
   ]
  },
  {
   "cell_type": "code",
   "execution_count": 39,
   "metadata": {
    "id": "--2hBWX2dDhe"
   },
   "outputs": [],
   "source": []
  },
  {
   "cell_type": "code",
   "execution_count": 39,
   "metadata": {
    "id": "2r1b4TPhdQun"
   },
   "outputs": [],
   "source": []
  }
 ],
 "metadata": {
  "colab": {
   "provenance": []
  },
  "kernelspec": {
   "display_name": "Python 3 (ipykernel)",
   "language": "python",
   "name": "python3"
  },
  "language_info": {
   "codemirror_mode": {
    "name": "ipython",
    "version": 3
   },
   "file_extension": ".py",
   "mimetype": "text/x-python",
   "name": "python",
   "nbconvert_exporter": "python",
   "pygments_lexer": "ipython3",
   "version": "3.11.7"
  }
 },
 "nbformat": 4,
 "nbformat_minor": 4
}
